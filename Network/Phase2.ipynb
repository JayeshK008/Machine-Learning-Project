{
  "cells": [
    {
      "cell_type": "code",
      "source": [
        "from google.colab import drive\n",
        "drive.mount('/content/drive')"
      ],
      "metadata": {
        "colab": {
          "base_uri": "https://localhost:8080/"
        },
        "id": "E1Ks6YuggZ-E",
        "outputId": "897c2221-fad5-4941-c0ae-884550911b77"
      },
      "execution_count": 5,
      "outputs": [
        {
          "output_type": "stream",
          "name": "stdout",
          "text": [
            "Mounted at /content/drive\n"
          ]
        }
      ]
    },
    {
      "cell_type": "code",
      "execution_count": 27,
      "metadata": {
        "id": "P8h_U-in8Tgw"
      },
      "outputs": [],
      "source": [
        "import pandas as pd\n",
        "import numpy as np\n",
        "from sklearn.model_selection import GroupShuffleSplit\n",
        "from sklearn.metrics import mean_absolute_error, mean_squared_error\n",
        "from tensorflow.keras.models import Model\n",
        "from tensorflow.keras.layers import Input, Embedding, LSTM, Dense, Dropout\n",
        "from tensorflow.keras.utils import pad_sequences\n",
        "from tensorflow.keras.regularizers import l1_l2\n",
        "from tensorflow.keras.callbacks import EarlyStopping\n",
        "import tensorflow.keras.backend as K"
      ]
    },
    {
      "cell_type": "code",
      "execution_count": 59,
      "metadata": {
        "colab": {
          "base_uri": "https://localhost:8080/",
          "height": 206
        },
        "id": "iewmwpxy8tXf",
        "outputId": "6f6546e3-31e9-4aa6-e9a3-008479e84568"
      },
      "outputs": [
        {
          "output_type": "execute_result",
          "data": {
            "text/plain": [
              "        rating            reviewerID  product_id       date\n",
              "19365        4  A0004478EF5NFPHLGCWG  B0001XXB3E 2013-01-17\n",
              "576678       4  A0004478EF5NFPHLGCWG  B005H40QQC 2013-01-17\n",
              "245606       4  A0004478EF5NFPHLGCWG  B001792ULU 2013-07-29\n",
              "303137       4  A0004478EF5NFPHLGCWG  B001792ULU 2013-07-29\n",
              "530174       4  A0004478EF5NFPHLGCWG  B004TT6LA6 2013-07-29"
            ],
            "text/html": [
              "\n",
              "  <div id=\"df-bc413e75-f40e-4328-a21e-5d45e2f3878c\" class=\"colab-df-container\">\n",
              "    <div>\n",
              "<style scoped>\n",
              "    .dataframe tbody tr th:only-of-type {\n",
              "        vertical-align: middle;\n",
              "    }\n",
              "\n",
              "    .dataframe tbody tr th {\n",
              "        vertical-align: top;\n",
              "    }\n",
              "\n",
              "    .dataframe thead th {\n",
              "        text-align: right;\n",
              "    }\n",
              "</style>\n",
              "<table border=\"1\" class=\"dataframe\">\n",
              "  <thead>\n",
              "    <tr style=\"text-align: right;\">\n",
              "      <th></th>\n",
              "      <th>rating</th>\n",
              "      <th>reviewerID</th>\n",
              "      <th>product_id</th>\n",
              "      <th>date</th>\n",
              "    </tr>\n",
              "  </thead>\n",
              "  <tbody>\n",
              "    <tr>\n",
              "      <th>19365</th>\n",
              "      <td>4</td>\n",
              "      <td>A0004478EF5NFPHLGCWG</td>\n",
              "      <td>B0001XXB3E</td>\n",
              "      <td>2013-01-17</td>\n",
              "    </tr>\n",
              "    <tr>\n",
              "      <th>576678</th>\n",
              "      <td>4</td>\n",
              "      <td>A0004478EF5NFPHLGCWG</td>\n",
              "      <td>B005H40QQC</td>\n",
              "      <td>2013-01-17</td>\n",
              "    </tr>\n",
              "    <tr>\n",
              "      <th>245606</th>\n",
              "      <td>4</td>\n",
              "      <td>A0004478EF5NFPHLGCWG</td>\n",
              "      <td>B001792ULU</td>\n",
              "      <td>2013-07-29</td>\n",
              "    </tr>\n",
              "    <tr>\n",
              "      <th>303137</th>\n",
              "      <td>4</td>\n",
              "      <td>A0004478EF5NFPHLGCWG</td>\n",
              "      <td>B001792ULU</td>\n",
              "      <td>2013-07-29</td>\n",
              "    </tr>\n",
              "    <tr>\n",
              "      <th>530174</th>\n",
              "      <td>4</td>\n",
              "      <td>A0004478EF5NFPHLGCWG</td>\n",
              "      <td>B004TT6LA6</td>\n",
              "      <td>2013-07-29</td>\n",
              "    </tr>\n",
              "  </tbody>\n",
              "</table>\n",
              "</div>\n",
              "    <div class=\"colab-df-buttons\">\n",
              "\n",
              "  <div class=\"colab-df-container\">\n",
              "    <button class=\"colab-df-convert\" onclick=\"convertToInteractive('df-bc413e75-f40e-4328-a21e-5d45e2f3878c')\"\n",
              "            title=\"Convert this dataframe to an interactive table.\"\n",
              "            style=\"display:none;\">\n",
              "\n",
              "  <svg xmlns=\"http://www.w3.org/2000/svg\" height=\"24px\" viewBox=\"0 -960 960 960\">\n",
              "    <path d=\"M120-120v-720h720v720H120Zm60-500h600v-160H180v160Zm220 220h160v-160H400v160Zm0 220h160v-160H400v160ZM180-400h160v-160H180v160Zm440 0h160v-160H620v160ZM180-180h160v-160H180v160Zm440 0h160v-160H620v160Z\"/>\n",
              "  </svg>\n",
              "    </button>\n",
              "\n",
              "  <style>\n",
              "    .colab-df-container {\n",
              "      display:flex;\n",
              "      gap: 12px;\n",
              "    }\n",
              "\n",
              "    .colab-df-convert {\n",
              "      background-color: #E8F0FE;\n",
              "      border: none;\n",
              "      border-radius: 50%;\n",
              "      cursor: pointer;\n",
              "      display: none;\n",
              "      fill: #1967D2;\n",
              "      height: 32px;\n",
              "      padding: 0 0 0 0;\n",
              "      width: 32px;\n",
              "    }\n",
              "\n",
              "    .colab-df-convert:hover {\n",
              "      background-color: #E2EBFA;\n",
              "      box-shadow: 0px 1px 2px rgba(60, 64, 67, 0.3), 0px 1px 3px 1px rgba(60, 64, 67, 0.15);\n",
              "      fill: #174EA6;\n",
              "    }\n",
              "\n",
              "    .colab-df-buttons div {\n",
              "      margin-bottom: 4px;\n",
              "    }\n",
              "\n",
              "    [theme=dark] .colab-df-convert {\n",
              "      background-color: #3B4455;\n",
              "      fill: #D2E3FC;\n",
              "    }\n",
              "\n",
              "    [theme=dark] .colab-df-convert:hover {\n",
              "      background-color: #434B5C;\n",
              "      box-shadow: 0px 1px 3px 1px rgba(0, 0, 0, 0.15);\n",
              "      filter: drop-shadow(0px 1px 2px rgba(0, 0, 0, 0.3));\n",
              "      fill: #FFFFFF;\n",
              "    }\n",
              "  </style>\n",
              "\n",
              "    <script>\n",
              "      const buttonEl =\n",
              "        document.querySelector('#df-bc413e75-f40e-4328-a21e-5d45e2f3878c button.colab-df-convert');\n",
              "      buttonEl.style.display =\n",
              "        google.colab.kernel.accessAllowed ? 'block' : 'none';\n",
              "\n",
              "      async function convertToInteractive(key) {\n",
              "        const element = document.querySelector('#df-bc413e75-f40e-4328-a21e-5d45e2f3878c');\n",
              "        const dataTable =\n",
              "          await google.colab.kernel.invokeFunction('convertToInteractive',\n",
              "                                                    [key], {});\n",
              "        if (!dataTable) return;\n",
              "\n",
              "        const docLinkHtml = 'Like what you see? Visit the ' +\n",
              "          '<a target=\"_blank\" href=https://colab.research.google.com/notebooks/data_table.ipynb>data table notebook</a>'\n",
              "          + ' to learn more about interactive tables.';\n",
              "        element.innerHTML = '';\n",
              "        dataTable['output_type'] = 'display_data';\n",
              "        await google.colab.output.renderOutput(dataTable, element);\n",
              "        const docLink = document.createElement('div');\n",
              "        docLink.innerHTML = docLinkHtml;\n",
              "        element.appendChild(docLink);\n",
              "      }\n",
              "    </script>\n",
              "  </div>\n",
              "\n",
              "\n",
              "<div id=\"df-4eef0bce-f684-4afd-b0e1-a1e3f6d1e8ac\">\n",
              "  <button class=\"colab-df-quickchart\" onclick=\"quickchart('df-4eef0bce-f684-4afd-b0e1-a1e3f6d1e8ac')\"\n",
              "            title=\"Suggest charts\"\n",
              "            style=\"display:none;\">\n",
              "\n",
              "<svg xmlns=\"http://www.w3.org/2000/svg\" height=\"24px\"viewBox=\"0 0 24 24\"\n",
              "     width=\"24px\">\n",
              "    <g>\n",
              "        <path d=\"M19 3H5c-1.1 0-2 .9-2 2v14c0 1.1.9 2 2 2h14c1.1 0 2-.9 2-2V5c0-1.1-.9-2-2-2zM9 17H7v-7h2v7zm4 0h-2V7h2v10zm4 0h-2v-4h2v4z\"/>\n",
              "    </g>\n",
              "</svg>\n",
              "  </button>\n",
              "\n",
              "<style>\n",
              "  .colab-df-quickchart {\n",
              "      --bg-color: #E8F0FE;\n",
              "      --fill-color: #1967D2;\n",
              "      --hover-bg-color: #E2EBFA;\n",
              "      --hover-fill-color: #174EA6;\n",
              "      --disabled-fill-color: #AAA;\n",
              "      --disabled-bg-color: #DDD;\n",
              "  }\n",
              "\n",
              "  [theme=dark] .colab-df-quickchart {\n",
              "      --bg-color: #3B4455;\n",
              "      --fill-color: #D2E3FC;\n",
              "      --hover-bg-color: #434B5C;\n",
              "      --hover-fill-color: #FFFFFF;\n",
              "      --disabled-bg-color: #3B4455;\n",
              "      --disabled-fill-color: #666;\n",
              "  }\n",
              "\n",
              "  .colab-df-quickchart {\n",
              "    background-color: var(--bg-color);\n",
              "    border: none;\n",
              "    border-radius: 50%;\n",
              "    cursor: pointer;\n",
              "    display: none;\n",
              "    fill: var(--fill-color);\n",
              "    height: 32px;\n",
              "    padding: 0;\n",
              "    width: 32px;\n",
              "  }\n",
              "\n",
              "  .colab-df-quickchart:hover {\n",
              "    background-color: var(--hover-bg-color);\n",
              "    box-shadow: 0 1px 2px rgba(60, 64, 67, 0.3), 0 1px 3px 1px rgba(60, 64, 67, 0.15);\n",
              "    fill: var(--button-hover-fill-color);\n",
              "  }\n",
              "\n",
              "  .colab-df-quickchart-complete:disabled,\n",
              "  .colab-df-quickchart-complete:disabled:hover {\n",
              "    background-color: var(--disabled-bg-color);\n",
              "    fill: var(--disabled-fill-color);\n",
              "    box-shadow: none;\n",
              "  }\n",
              "\n",
              "  .colab-df-spinner {\n",
              "    border: 2px solid var(--fill-color);\n",
              "    border-color: transparent;\n",
              "    border-bottom-color: var(--fill-color);\n",
              "    animation:\n",
              "      spin 1s steps(1) infinite;\n",
              "  }\n",
              "\n",
              "  @keyframes spin {\n",
              "    0% {\n",
              "      border-color: transparent;\n",
              "      border-bottom-color: var(--fill-color);\n",
              "      border-left-color: var(--fill-color);\n",
              "    }\n",
              "    20% {\n",
              "      border-color: transparent;\n",
              "      border-left-color: var(--fill-color);\n",
              "      border-top-color: var(--fill-color);\n",
              "    }\n",
              "    30% {\n",
              "      border-color: transparent;\n",
              "      border-left-color: var(--fill-color);\n",
              "      border-top-color: var(--fill-color);\n",
              "      border-right-color: var(--fill-color);\n",
              "    }\n",
              "    40% {\n",
              "      border-color: transparent;\n",
              "      border-right-color: var(--fill-color);\n",
              "      border-top-color: var(--fill-color);\n",
              "    }\n",
              "    60% {\n",
              "      border-color: transparent;\n",
              "      border-right-color: var(--fill-color);\n",
              "    }\n",
              "    80% {\n",
              "      border-color: transparent;\n",
              "      border-right-color: var(--fill-color);\n",
              "      border-bottom-color: var(--fill-color);\n",
              "    }\n",
              "    90% {\n",
              "      border-color: transparent;\n",
              "      border-bottom-color: var(--fill-color);\n",
              "    }\n",
              "  }\n",
              "</style>\n",
              "\n",
              "  <script>\n",
              "    async function quickchart(key) {\n",
              "      const quickchartButtonEl =\n",
              "        document.querySelector('#' + key + ' button');\n",
              "      quickchartButtonEl.disabled = true;  // To prevent multiple clicks.\n",
              "      quickchartButtonEl.classList.add('colab-df-spinner');\n",
              "      try {\n",
              "        const charts = await google.colab.kernel.invokeFunction(\n",
              "            'suggestCharts', [key], {});\n",
              "      } catch (error) {\n",
              "        console.error('Error during call to suggestCharts:', error);\n",
              "      }\n",
              "      quickchartButtonEl.classList.remove('colab-df-spinner');\n",
              "      quickchartButtonEl.classList.add('colab-df-quickchart-complete');\n",
              "    }\n",
              "    (() => {\n",
              "      let quickchartButtonEl =\n",
              "        document.querySelector('#df-4eef0bce-f684-4afd-b0e1-a1e3f6d1e8ac button');\n",
              "      quickchartButtonEl.style.display =\n",
              "        google.colab.kernel.accessAllowed ? 'block' : 'none';\n",
              "    })();\n",
              "  </script>\n",
              "</div>\n",
              "\n",
              "    </div>\n",
              "  </div>\n"
            ],
            "application/vnd.google.colaboratory.intrinsic+json": {
              "type": "dataframe",
              "variable_name": "df"
            }
          },
          "metadata": {},
          "execution_count": 59
        }
      ],
      "source": [
        "df = pd.read_csv('/content/drive/MyDrive/ML Project/ratings_data.csv')\n",
        "df['date'] = pd.to_datetime(df['date'], unit='s')\n",
        "df.sort_values(by=['reviewerID', 'date'], inplace=True)\n",
        "df.head()"
      ]
    },
    {
      "cell_type": "code",
      "source": [
        "#remove rows from df containing all certain product_id, which has less than 1000 count\n",
        "df = df[~df['product_id'].isin(df['product_id'].value_counts()[df['product_id'].value_counts() < 590].index)]"
      ],
      "metadata": {
        "id": "mzgYM9xegG_Y"
      },
      "execution_count": 75,
      "outputs": []
    },
    {
      "cell_type": "markdown",
      "metadata": {
        "id": "cPFhOhdH9Fc4"
      },
      "source": [
        "mapping the product id to numbers as there are strings in it"
      ]
    },
    {
      "cell_type": "code",
      "execution_count": 76,
      "metadata": {
        "id": "csku07Uo9A5U"
      },
      "outputs": [],
      "source": [
        "product_ids = df['product_id'].unique()\n",
        "product_id_map = {product_id: i + 1 for i, product_id in enumerate(product_ids)}"
      ]
    },
    {
      "cell_type": "code",
      "source": [
        "len(product_ids)"
      ],
      "metadata": {
        "colab": {
          "base_uri": "https://localhost:8080/"
        },
        "id": "EaV2uHsfgLce",
        "outputId": "aee116a8-edf0-4c25-a232-b3e6a5466d91"
      },
      "execution_count": 77,
      "outputs": [
        {
          "output_type": "execute_result",
          "data": {
            "text/plain": [
              "140"
            ]
          },
          "metadata": {},
          "execution_count": 77
        }
      ]
    },
    {
      "cell_type": "markdown",
      "metadata": {
        "id": "uJg83Mcf9UL0"
      },
      "source": [
        "Split the data into train and test sets based on 'reviewerID' to avoid overlap<br>\n",
        "so to achive that i have used groupshufflesplit"
      ]
    },
    {
      "cell_type": "code",
      "execution_count": 78,
      "metadata": {
        "id": "Dck_fon29NvV"
      },
      "outputs": [],
      "source": [
        "# Split the data into train and test sets based on 'reviewerID' to avoid overlap\n",
        "gss = GroupShuffleSplit(test_size=0.2, n_splits=1, random_state=42)\n",
        "train_idx, test_idx = next(gss.split(df, groups=df['reviewerID']))\n",
        "train_df = df.iloc[train_idx]\n",
        "test_df = df.iloc[test_idx]\n"
      ]
    },
    {
      "cell_type": "markdown",
      "metadata": {
        "id": "bqQPbT8e-QGz"
      },
      "source": [
        "making sure that groupshuffle actually split the data.<br>\n",
        "added this as in first iteration of my code it was not working as intended"
      ]
    },
    {
      "cell_type": "code",
      "execution_count": 79,
      "metadata": {
        "id": "Rliyu1aQ-M7o"
      },
      "outputs": [],
      "source": [
        "train_reviewers = set(train_df['reviewerID'])\n",
        "test_reviewers = set(test_df['reviewerID'])\n",
        "assert len(train_reviewers.intersection(test_reviewers)) == 0, \"There is overlap between train and test reviewerIDs!\""
      ]
    },
    {
      "cell_type": "markdown",
      "metadata": {
        "id": "ibk20BS3_pIJ"
      },
      "source": [
        "## process data"
      ]
    },
    {
      "cell_type": "code",
      "execution_count": 80,
      "metadata": {
        "id": "LR-b0d-S-adQ"
      },
      "outputs": [],
      "source": [
        "def process_data(df, seqlen):\n",
        "    user_groups = df.groupby('reviewerID')\n",
        "    X_train, y_train_products, y_train_ratings = [], [], []\n",
        "    j = 0 #for checking progress\n",
        "    for user, user_data in user_groups:\n",
        "        user_data = user_data.sort_values(by='date')\n",
        "        product_sequence = user_data['product_id'].values\n",
        "        rating_sequence = user_data['rating'].values\n",
        "\n",
        "        for i in range(1, len(product_sequence)):\n",
        "            X_train.append(product_sequence[:i])\n",
        "            y_train_products.append(product_sequence[i])\n",
        "            y_train_ratings.append(rating_sequence[i])\n",
        "            if j%10000 == 0:\n",
        "                print(j)\n",
        "            j+=1\n",
        "\n",
        "    # use the above created map to replace int values\n",
        "    # padded them so that i can give to model\n",
        "    X_mapped = [[product_id_map[prod] for prod in x] for x in X_train]\n",
        "    X_padded = pad_sequences(X_mapped, maxlen=seqlen)\n",
        "\n",
        "    y_mapped_products = np.array([product_id_map[prod] for prod in y_train_products], dtype=np.int32)\n",
        "    y_ratings = np.array(y_train_ratings, dtype=np.float32)\n",
        "\n",
        "    return X_padded, y_mapped_products, y_ratings\n"
      ]
    },
    {
      "cell_type": "code",
      "execution_count": 81,
      "metadata": {
        "colab": {
          "base_uri": "https://localhost:8080/"
        },
        "id": "lgRWUkp9AHC2",
        "outputId": "f2dbc3d0-0ddb-44ab-b4fa-0dc7ada6455d"
      },
      "outputs": [
        {
          "output_type": "stream",
          "name": "stdout",
          "text": [
            "0\n",
            "10000\n",
            "20000\n",
            "30000\n",
            "40000\n",
            "50000\n",
            "60000\n",
            "70000\n"
          ]
        }
      ],
      "source": [
        "# i have chosen 3 as hyperparameter, the process data will generate me training\n",
        "# set including all 1,2,3 combinations for coldstart\n",
        "seqlen = 3\n",
        "X_train_padded, y_train_products, y_train_ratings = process_data(train_df, seqlen)"
      ]
    },
    {
      "cell_type": "code",
      "execution_count": 91,
      "metadata": {
        "id": "NsBPa8_qAblK"
      },
      "outputs": [],
      "source": [
        "# Define the model\n",
        "input_layer = Input(shape=(seqlen,))"
      ]
    },
    {
      "cell_type": "code",
      "execution_count": 92,
      "metadata": {
        "id": "vgX2FbHiA0IR"
      },
      "outputs": [],
      "source": [
        "# Embedding layer\n",
        "embedding_layer = Embedding(input_dim=len(product_id_map) + 1, output_dim=50)(input_layer)"
      ]
    },
    {
      "cell_type": "code",
      "execution_count": 93,
      "metadata": {
        "id": "5VHMGVIsA4IR"
      },
      "outputs": [],
      "source": [
        "# LSTM layer\n",
        "lstm_layer = LSTM(256, activation='relu', kernel_regularizer=l1_l2(l1=0.02, l2=0.02))(embedding_layer)"
      ]
    },
    {
      "cell_type": "code",
      "execution_count": 94,
      "metadata": {
        "id": "BGdhGMKJA6_o"
      },
      "outputs": [],
      "source": [
        "# Dropout layer\n",
        "dropout_layer = Dropout(0.8)(lstm_layer)"
      ]
    },
    {
      "cell_type": "code",
      "execution_count": 95,
      "metadata": {
        "id": "25_CdrcXA9Un"
      },
      "outputs": [],
      "source": [
        "# Output layers: product prediction (classification) and rating prediction (regression)\n",
        "product_output = Dense(len(product_id_map) + 1, activation='softmax', name='product_output')(dropout_layer)\n",
        "rating_output = Dense(1, activation='linear', name='rating_output')(dropout_layer)\n"
      ]
    },
    {
      "cell_type": "code",
      "execution_count": 96,
      "metadata": {
        "id": "IXbhrANBA_sk"
      },
      "outputs": [],
      "source": [
        "# Build and compile the model\n",
        "model = Model(inputs=input_layer, outputs=[product_output, rating_output])\n",
        "model.compile(optimizer='adam',\n",
        "              loss={'product_output': 'sparse_categorical_crossentropy', 'rating_output': 'mean_squared_error'},\n",
        "              metrics={'product_output': 'accuracy', 'rating_output': 'mae'})"
      ]
    },
    {
      "cell_type": "code",
      "execution_count": 97,
      "metadata": {
        "id": "YV4vSNveBCxZ"
      },
      "outputs": [],
      "source": [
        "# Early stopping\n",
        "early_stopping = EarlyStopping(monitor='val_loss', patience=10, restore_best_weights=True)"
      ]
    },
    {
      "cell_type": "code",
      "execution_count": 98,
      "metadata": {
        "colab": {
          "base_uri": "https://localhost:8080/",
          "height": 374
        },
        "id": "aTsOFlkDBLil",
        "outputId": "17f9e354-3d6f-4090-d448-ef868a5f0fd6"
      },
      "outputs": [
        {
          "output_type": "display_data",
          "data": {
            "text/plain": [
              "\u001b[1mModel: \"functional_5\"\u001b[0m\n"
            ],
            "text/html": [
              "<pre style=\"white-space:pre;overflow-x:auto;line-height:normal;font-family:Menlo,'DejaVu Sans Mono',consolas,'Courier New',monospace\"><span style=\"font-weight: bold\">Model: \"functional_5\"</span>\n",
              "</pre>\n"
            ]
          },
          "metadata": {}
        },
        {
          "output_type": "display_data",
          "data": {
            "text/plain": [
              "┏━━━━━━━━━━━━━━━━━━━━━━━━━━━┳━━━━━━━━━━━━━━━━━━━━━━━━┳━━━━━━━━━━━━━━━━┳━━━━━━━━━━━━━━━━━━━━━━━━┓\n",
              "┃\u001b[1m \u001b[0m\u001b[1mLayer (type)             \u001b[0m\u001b[1m \u001b[0m┃\u001b[1m \u001b[0m\u001b[1mOutput Shape          \u001b[0m\u001b[1m \u001b[0m┃\u001b[1m \u001b[0m\u001b[1m       Param #\u001b[0m\u001b[1m \u001b[0m┃\u001b[1m \u001b[0m\u001b[1mConnected to          \u001b[0m\u001b[1m \u001b[0m┃\n",
              "┡━━━━━━━━━━━━━━━━━━━━━━━━━━━╇━━━━━━━━━━━━━━━━━━━━━━━━╇━━━━━━━━━━━━━━━━╇━━━━━━━━━━━━━━━━━━━━━━━━┩\n",
              "│ input_layer_5             │ (\u001b[38;5;45mNone\u001b[0m, \u001b[38;5;34m3\u001b[0m)              │              \u001b[38;5;34m0\u001b[0m │ -                      │\n",
              "│ (\u001b[38;5;33mInputLayer\u001b[0m)              │                        │                │                        │\n",
              "├───────────────────────────┼────────────────────────┼────────────────┼────────────────────────┤\n",
              "│ embedding_5 (\u001b[38;5;33mEmbedding\u001b[0m)   │ (\u001b[38;5;45mNone\u001b[0m, \u001b[38;5;34m3\u001b[0m, \u001b[38;5;34m50\u001b[0m)          │          \u001b[38;5;34m7,050\u001b[0m │ input_layer_5[\u001b[38;5;34m0\u001b[0m][\u001b[38;5;34m0\u001b[0m]    │\n",
              "├───────────────────────────┼────────────────────────┼────────────────┼────────────────────────┤\n",
              "│ lstm_5 (\u001b[38;5;33mLSTM\u001b[0m)             │ (\u001b[38;5;45mNone\u001b[0m, \u001b[38;5;34m256\u001b[0m)            │        \u001b[38;5;34m314,368\u001b[0m │ embedding_5[\u001b[38;5;34m0\u001b[0m][\u001b[38;5;34m0\u001b[0m]      │\n",
              "├───────────────────────────┼────────────────────────┼────────────────┼────────────────────────┤\n",
              "│ dropout_5 (\u001b[38;5;33mDropout\u001b[0m)       │ (\u001b[38;5;45mNone\u001b[0m, \u001b[38;5;34m256\u001b[0m)            │              \u001b[38;5;34m0\u001b[0m │ lstm_5[\u001b[38;5;34m0\u001b[0m][\u001b[38;5;34m0\u001b[0m]           │\n",
              "├───────────────────────────┼────────────────────────┼────────────────┼────────────────────────┤\n",
              "│ product_output (\u001b[38;5;33mDense\u001b[0m)    │ (\u001b[38;5;45mNone\u001b[0m, \u001b[38;5;34m141\u001b[0m)            │         \u001b[38;5;34m36,237\u001b[0m │ dropout_5[\u001b[38;5;34m0\u001b[0m][\u001b[38;5;34m0\u001b[0m]        │\n",
              "├───────────────────────────┼────────────────────────┼────────────────┼────────────────────────┤\n",
              "│ rating_output (\u001b[38;5;33mDense\u001b[0m)     │ (\u001b[38;5;45mNone\u001b[0m, \u001b[38;5;34m1\u001b[0m)              │            \u001b[38;5;34m257\u001b[0m │ dropout_5[\u001b[38;5;34m0\u001b[0m][\u001b[38;5;34m0\u001b[0m]        │\n",
              "└───────────────────────────┴────────────────────────┴────────────────┴────────────────────────┘\n"
            ],
            "text/html": [
              "<pre style=\"white-space:pre;overflow-x:auto;line-height:normal;font-family:Menlo,'DejaVu Sans Mono',consolas,'Courier New',monospace\">┏━━━━━━━━━━━━━━━━━━━━━━━━━━━┳━━━━━━━━━━━━━━━━━━━━━━━━┳━━━━━━━━━━━━━━━━┳━━━━━━━━━━━━━━━━━━━━━━━━┓\n",
              "┃<span style=\"font-weight: bold\"> Layer (type)              </span>┃<span style=\"font-weight: bold\"> Output Shape           </span>┃<span style=\"font-weight: bold\">        Param # </span>┃<span style=\"font-weight: bold\"> Connected to           </span>┃\n",
              "┡━━━━━━━━━━━━━━━━━━━━━━━━━━━╇━━━━━━━━━━━━━━━━━━━━━━━━╇━━━━━━━━━━━━━━━━╇━━━━━━━━━━━━━━━━━━━━━━━━┩\n",
              "│ input_layer_5             │ (<span style=\"color: #00d7ff; text-decoration-color: #00d7ff\">None</span>, <span style=\"color: #00af00; text-decoration-color: #00af00\">3</span>)              │              <span style=\"color: #00af00; text-decoration-color: #00af00\">0</span> │ -                      │\n",
              "│ (<span style=\"color: #0087ff; text-decoration-color: #0087ff\">InputLayer</span>)              │                        │                │                        │\n",
              "├───────────────────────────┼────────────────────────┼────────────────┼────────────────────────┤\n",
              "│ embedding_5 (<span style=\"color: #0087ff; text-decoration-color: #0087ff\">Embedding</span>)   │ (<span style=\"color: #00d7ff; text-decoration-color: #00d7ff\">None</span>, <span style=\"color: #00af00; text-decoration-color: #00af00\">3</span>, <span style=\"color: #00af00; text-decoration-color: #00af00\">50</span>)          │          <span style=\"color: #00af00; text-decoration-color: #00af00\">7,050</span> │ input_layer_5[<span style=\"color: #00af00; text-decoration-color: #00af00\">0</span>][<span style=\"color: #00af00; text-decoration-color: #00af00\">0</span>]    │\n",
              "├───────────────────────────┼────────────────────────┼────────────────┼────────────────────────┤\n",
              "│ lstm_5 (<span style=\"color: #0087ff; text-decoration-color: #0087ff\">LSTM</span>)             │ (<span style=\"color: #00d7ff; text-decoration-color: #00d7ff\">None</span>, <span style=\"color: #00af00; text-decoration-color: #00af00\">256</span>)            │        <span style=\"color: #00af00; text-decoration-color: #00af00\">314,368</span> │ embedding_5[<span style=\"color: #00af00; text-decoration-color: #00af00\">0</span>][<span style=\"color: #00af00; text-decoration-color: #00af00\">0</span>]      │\n",
              "├───────────────────────────┼────────────────────────┼────────────────┼────────────────────────┤\n",
              "│ dropout_5 (<span style=\"color: #0087ff; text-decoration-color: #0087ff\">Dropout</span>)       │ (<span style=\"color: #00d7ff; text-decoration-color: #00d7ff\">None</span>, <span style=\"color: #00af00; text-decoration-color: #00af00\">256</span>)            │              <span style=\"color: #00af00; text-decoration-color: #00af00\">0</span> │ lstm_5[<span style=\"color: #00af00; text-decoration-color: #00af00\">0</span>][<span style=\"color: #00af00; text-decoration-color: #00af00\">0</span>]           │\n",
              "├───────────────────────────┼────────────────────────┼────────────────┼────────────────────────┤\n",
              "│ product_output (<span style=\"color: #0087ff; text-decoration-color: #0087ff\">Dense</span>)    │ (<span style=\"color: #00d7ff; text-decoration-color: #00d7ff\">None</span>, <span style=\"color: #00af00; text-decoration-color: #00af00\">141</span>)            │         <span style=\"color: #00af00; text-decoration-color: #00af00\">36,237</span> │ dropout_5[<span style=\"color: #00af00; text-decoration-color: #00af00\">0</span>][<span style=\"color: #00af00; text-decoration-color: #00af00\">0</span>]        │\n",
              "├───────────────────────────┼────────────────────────┼────────────────┼────────────────────────┤\n",
              "│ rating_output (<span style=\"color: #0087ff; text-decoration-color: #0087ff\">Dense</span>)     │ (<span style=\"color: #00d7ff; text-decoration-color: #00d7ff\">None</span>, <span style=\"color: #00af00; text-decoration-color: #00af00\">1</span>)              │            <span style=\"color: #00af00; text-decoration-color: #00af00\">257</span> │ dropout_5[<span style=\"color: #00af00; text-decoration-color: #00af00\">0</span>][<span style=\"color: #00af00; text-decoration-color: #00af00\">0</span>]        │\n",
              "└───────────────────────────┴────────────────────────┴────────────────┴────────────────────────┘\n",
              "</pre>\n"
            ]
          },
          "metadata": {}
        },
        {
          "output_type": "display_data",
          "data": {
            "text/plain": [
              "\u001b[1m Total params: \u001b[0m\u001b[38;5;34m357,912\u001b[0m (1.37 MB)\n"
            ],
            "text/html": [
              "<pre style=\"white-space:pre;overflow-x:auto;line-height:normal;font-family:Menlo,'DejaVu Sans Mono',consolas,'Courier New',monospace\"><span style=\"font-weight: bold\"> Total params: </span><span style=\"color: #00af00; text-decoration-color: #00af00\">357,912</span> (1.37 MB)\n",
              "</pre>\n"
            ]
          },
          "metadata": {}
        },
        {
          "output_type": "display_data",
          "data": {
            "text/plain": [
              "\u001b[1m Trainable params: \u001b[0m\u001b[38;5;34m357,912\u001b[0m (1.37 MB)\n"
            ],
            "text/html": [
              "<pre style=\"white-space:pre;overflow-x:auto;line-height:normal;font-family:Menlo,'DejaVu Sans Mono',consolas,'Courier New',monospace\"><span style=\"font-weight: bold\"> Trainable params: </span><span style=\"color: #00af00; text-decoration-color: #00af00\">357,912</span> (1.37 MB)\n",
              "</pre>\n"
            ]
          },
          "metadata": {}
        },
        {
          "output_type": "display_data",
          "data": {
            "text/plain": [
              "\u001b[1m Non-trainable params: \u001b[0m\u001b[38;5;34m0\u001b[0m (0.00 B)\n"
            ],
            "text/html": [
              "<pre style=\"white-space:pre;overflow-x:auto;line-height:normal;font-family:Menlo,'DejaVu Sans Mono',consolas,'Courier New',monospace\"><span style=\"font-weight: bold\"> Non-trainable params: </span><span style=\"color: #00af00; text-decoration-color: #00af00\">0</span> (0.00 B)\n",
              "</pre>\n"
            ]
          },
          "metadata": {}
        }
      ],
      "source": [
        "model.summary()"
      ]
    },
    {
      "cell_type": "code",
      "execution_count": 99,
      "metadata": {
        "colab": {
          "base_uri": "https://localhost:8080/",
          "height": 576
        },
        "id": "cPtQxapyBWrx",
        "outputId": "38f5dcf1-23d4-49be-8bc5-f572ff9329fa"
      },
      "outputs": [
        {
          "output_type": "execute_result",
          "data": {
            "image/png": "[encoded data removed]",
            "text/plain": [
              "<IPython.core.display.Image object>"
            ]
          },
          "metadata": {},
          "execution_count": 99
        }
      ],
      "source": [
        "from tensorflow.keras.utils import plot_model\n",
        "\n",
        "plot_model(model, to_file='plot.png', show_layer_names=True)"
      ]
    },
    {
      "cell_type": "code",
      "execution_count": 100,
      "metadata": {
        "colab": {
          "base_uri": "https://localhost:8080/"
        },
        "id": "y-i4RbDzBGPc",
        "outputId": "1672a039-c88f-4f50-ef8b-4eafe7cd4aeb"
      },
      "outputs": [
        {
          "output_type": "stream",
          "name": "stdout",
          "text": [
            "Epoch 1/100\n",
            "\u001b[1m916/916\u001b[0m \u001b[32m━━━━━━━━━━━━━━━━━━━━\u001b[0m\u001b[37m\u001b[0m \u001b[1m12s\u001b[0m 8ms/step - loss: 14.1805 - product_output_accuracy: 0.0577 - rating_output_mae: 1.4915 - val_loss: 5.5836 - val_product_output_accuracy: 0.0667 - val_rating_output_mae: 0.8106\n",
            "Epoch 2/100\n",
            "\u001b[1m916/916\u001b[0m \u001b[32m━━━━━━━━━━━━━━━━━━━━\u001b[0m\u001b[37m\u001b[0m \u001b[1m3s\u001b[0m 3ms/step - loss: 6.1774 - product_output_accuracy: 0.0657 - rating_output_mae: 0.9434 - val_loss: 5.5332 - val_product_output_accuracy: 0.0667 - val_rating_output_mae: 0.7501\n",
            "Epoch 3/100\n",
            "\u001b[1m916/916\u001b[0m \u001b[32m━━━━━━━━━━━━━━━━━━━━\u001b[0m\u001b[37m\u001b[0m \u001b[1m6s\u001b[0m 4ms/step - loss: 6.0714 - product_output_accuracy: 0.0687 - rating_output_mae: 0.9113 - val_loss: 5.5285 - val_product_output_accuracy: 0.0667 - val_rating_output_mae: 0.7508\n",
            "Epoch 4/100\n",
            "\u001b[1m916/916\u001b[0m \u001b[32m━━━━━━━━━━━━━━━━━━━━\u001b[0m\u001b[37m\u001b[0m \u001b[1m5s\u001b[0m 4ms/step - loss: 5.9808 - product_output_accuracy: 0.0664 - rating_output_mae: 0.8794 - val_loss: 5.5868 - val_product_output_accuracy: 0.0667 - val_rating_output_mae: 0.8176\n",
            "Epoch 5/100\n",
            "\u001b[1m916/916\u001b[0m \u001b[32m━━━━━━━━━━━━━━━━━━━━\u001b[0m\u001b[37m\u001b[0m \u001b[1m4s\u001b[0m 4ms/step - loss: 5.9313 - product_output_accuracy: 0.0693 - rating_output_mae: 0.8539 - val_loss: 5.5219 - val_product_output_accuracy: 0.0666 - val_rating_output_mae: 0.7270\n",
            "Epoch 6/100\n",
            "\u001b[1m916/916\u001b[0m \u001b[32m━━━━━━━━━━━━━━━━━━━━\u001b[0m\u001b[37m\u001b[0m \u001b[1m5s\u001b[0m 4ms/step - loss: 5.8717 - product_output_accuracy: 0.0671 - rating_output_mae: 0.8331 - val_loss: 5.5284 - val_product_output_accuracy: 0.0666 - val_rating_output_mae: 0.7622\n",
            "Epoch 7/100\n",
            "\u001b[1m916/916\u001b[0m \u001b[32m━━━━━━━━━━━━━━━━━━━━\u001b[0m\u001b[37m\u001b[0m \u001b[1m3s\u001b[0m 4ms/step - loss: 5.7878 - product_output_accuracy: 0.0689 - rating_output_mae: 0.8033 - val_loss: 5.4882 - val_product_output_accuracy: 0.0667 - val_rating_output_mae: 0.6732\n",
            "Epoch 8/100\n",
            "\u001b[1m916/916\u001b[0m \u001b[32m━━━━━━━━━━━━━━━━━━━━\u001b[0m\u001b[37m\u001b[0m \u001b[1m5s\u001b[0m 3ms/step - loss: 5.7210 - product_output_accuracy: 0.0702 - rating_output_mae: 0.7896 - val_loss: 5.4115 - val_product_output_accuracy: 0.0691 - val_rating_output_mae: 0.7113\n",
            "Epoch 9/100\n",
            "\u001b[1m916/916\u001b[0m \u001b[32m━━━━━━━━━━━━━━━━━━━━\u001b[0m\u001b[37m\u001b[0m \u001b[1m4s\u001b[0m 4ms/step - loss: 5.5485 - product_output_accuracy: 0.1088 - rating_output_mae: 0.7713 - val_loss: 5.0336 - val_product_output_accuracy: 0.1548 - val_rating_output_mae: 0.7267\n",
            "Epoch 10/100\n",
            "\u001b[1m916/916\u001b[0m \u001b[32m━━━━━━━━━━━━━━━━━━━━\u001b[0m\u001b[37m\u001b[0m \u001b[1m5s\u001b[0m 4ms/step - loss: 5.2873 - product_output_accuracy: 0.1503 - rating_output_mae: 0.7647 - val_loss: 4.9264 - val_product_output_accuracy: 0.1703 - val_rating_output_mae: 0.7401\n",
            "Epoch 11/100\n",
            "\u001b[1m916/916\u001b[0m \u001b[32m━━━━━━━━━━━━━━━━━━━━\u001b[0m\u001b[37m\u001b[0m \u001b[1m5s\u001b[0m 4ms/step - loss: 5.1759 - product_output_accuracy: 0.1634 - rating_output_mae: 0.7545 - val_loss: 4.8773 - val_product_output_accuracy: 0.1863 - val_rating_output_mae: 0.7382\n",
            "Epoch 12/100\n",
            "\u001b[1m916/916\u001b[0m \u001b[32m━━━━━━━━━━━━━━━━━━━━\u001b[0m\u001b[37m\u001b[0m \u001b[1m3s\u001b[0m 4ms/step - loss: 5.1052 - product_output_accuracy: 0.1727 - rating_output_mae: 0.7535 - val_loss: 4.7907 - val_product_output_accuracy: 0.1866 - val_rating_output_mae: 0.7030\n",
            "Epoch 13/100\n",
            "\u001b[1m916/916\u001b[0m \u001b[32m━━━━━━━━━━━━━━━━━━━━\u001b[0m\u001b[37m\u001b[0m \u001b[1m5s\u001b[0m 3ms/step - loss: 5.0271 - product_output_accuracy: 0.1820 - rating_output_mae: 0.7519 - val_loss: 4.6991 - val_product_output_accuracy: 0.2312 - val_rating_output_mae: 0.7255\n",
            "Epoch 14/100\n",
            "\u001b[1m916/916\u001b[0m \u001b[32m━━━━━━━━━━━━━━━━━━━━\u001b[0m\u001b[37m\u001b[0m \u001b[1m5s\u001b[0m 3ms/step - loss: 4.9259 - product_output_accuracy: 0.2003 - rating_output_mae: 0.7415 - val_loss: 4.5951 - val_product_output_accuracy: 0.2424 - val_rating_output_mae: 0.6788\n",
            "Epoch 15/100\n",
            "\u001b[1m916/916\u001b[0m \u001b[32m━━━━━━━━━━━━━━━━━━━━\u001b[0m\u001b[37m\u001b[0m \u001b[1m4s\u001b[0m 4ms/step - loss: 4.8328 - product_output_accuracy: 0.2221 - rating_output_mae: 0.7350 - val_loss: 4.4006 - val_product_output_accuracy: 0.3062 - val_rating_output_mae: 0.7207\n",
            "Epoch 16/100\n",
            "\u001b[1m916/916\u001b[0m \u001b[32m━━━━━━━━━━━━━━━━━━━━\u001b[0m\u001b[37m\u001b[0m \u001b[1m5s\u001b[0m 3ms/step - loss: 4.6867 - product_output_accuracy: 0.2557 - rating_output_mae: 0.7351 - val_loss: 4.2592 - val_product_output_accuracy: 0.3413 - val_rating_output_mae: 0.7333\n",
            "Epoch 17/100\n",
            "\u001b[1m916/916\u001b[0m \u001b[32m━━━━━━━━━━━━━━━━━━━━\u001b[0m\u001b[37m\u001b[0m \u001b[1m3s\u001b[0m 3ms/step - loss: 4.5364 - product_output_accuracy: 0.2793 - rating_output_mae: 0.7366 - val_loss: 4.1330 - val_product_output_accuracy: 0.3531 - val_rating_output_mae: 0.7229\n",
            "Epoch 18/100\n",
            "\u001b[1m916/916\u001b[0m \u001b[32m━━━━━━━━━━━━━━━━━━━━\u001b[0m\u001b[37m\u001b[0m \u001b[1m6s\u001b[0m 4ms/step - loss: 4.4419 - product_output_accuracy: 0.2957 - rating_output_mae: 0.7288 - val_loss: 4.0670 - val_product_output_accuracy: 0.3450 - val_rating_output_mae: 0.7036\n",
            "Epoch 19/100\n",
            "\u001b[1m916/916\u001b[0m \u001b[32m━━━━━━━━━━━━━━━━━━━━\u001b[0m\u001b[37m\u001b[0m \u001b[1m4s\u001b[0m 4ms/step - loss: 4.3749 - product_output_accuracy: 0.3091 - rating_output_mae: 0.7311 - val_loss: 4.0002 - val_product_output_accuracy: 0.3803 - val_rating_output_mae: 0.6907\n",
            "Epoch 20/100\n",
            "\u001b[1m916/916\u001b[0m \u001b[32m━━━━━━━━━━━━━━━━━━━━\u001b[0m\u001b[37m\u001b[0m \u001b[1m3s\u001b[0m 3ms/step - loss: 4.3054 - product_output_accuracy: 0.3167 - rating_output_mae: 0.7234 - val_loss: 3.9486 - val_product_output_accuracy: 0.3925 - val_rating_output_mae: 0.6969\n",
            "Epoch 21/100\n",
            "\u001b[1m916/916\u001b[0m \u001b[32m━━━━━━━━━━━━━━━━━━━━\u001b[0m\u001b[37m\u001b[0m \u001b[1m3s\u001b[0m 3ms/step - loss: 4.2707 - product_output_accuracy: 0.3295 - rating_output_mae: 0.7317 - val_loss: 3.9121 - val_product_output_accuracy: 0.3944 - val_rating_output_mae: 0.7040\n",
            "Epoch 22/100\n",
            "\u001b[1m916/916\u001b[0m \u001b[32m━━━━━━━━━━━━━━━━━━━━\u001b[0m\u001b[37m\u001b[0m \u001b[1m4s\u001b[0m 4ms/step - loss: 4.2199 - product_output_accuracy: 0.3355 - rating_output_mae: 0.7247 - val_loss: 3.8701 - val_product_output_accuracy: 0.4079 - val_rating_output_mae: 0.7153\n",
            "Epoch 23/100\n",
            "\u001b[1m916/916\u001b[0m \u001b[32m━━━━━━━━━━━━━━━━━━━━\u001b[0m\u001b[37m\u001b[0m \u001b[1m5s\u001b[0m 3ms/step - loss: 4.1762 - product_output_accuracy: 0.3473 - rating_output_mae: 0.7264 - val_loss: 3.8217 - val_product_output_accuracy: 0.4062 - val_rating_output_mae: 0.6961\n",
            "Epoch 24/100\n",
            "\u001b[1m916/916\u001b[0m \u001b[32m━━━━━━━━━━━━━━━━━━━━\u001b[0m\u001b[37m\u001b[0m \u001b[1m5s\u001b[0m 3ms/step - loss: 4.1350 - product_output_accuracy: 0.3581 - rating_output_mae: 0.7270 - val_loss: 3.7909 - val_product_output_accuracy: 0.4214 - val_rating_output_mae: 0.7016\n",
            "Epoch 25/100\n",
            "\u001b[1m916/916\u001b[0m \u001b[32m━━━━━━━━━━━━━━━━━━━━\u001b[0m\u001b[37m\u001b[0m \u001b[1m4s\u001b[0m 4ms/step - loss: 4.1205 - product_output_accuracy: 0.3663 - rating_output_mae: 0.7302 - val_loss: 3.7562 - val_product_output_accuracy: 0.4226 - val_rating_output_mae: 0.7112\n",
            "Epoch 26/100\n",
            "\u001b[1m916/916\u001b[0m \u001b[32m━━━━━━━━━━━━━━━━━━━━\u001b[0m\u001b[37m\u001b[0m \u001b[1m4s\u001b[0m 4ms/step - loss: 4.0827 - product_output_accuracy: 0.3694 - rating_output_mae: 0.7260 - val_loss: 3.7284 - val_product_output_accuracy: 0.4258 - val_rating_output_mae: 0.7027\n",
            "Epoch 27/100\n",
            "\u001b[1m916/916\u001b[0m \u001b[32m━━━━━━━━━━━━━━━━━━━━\u001b[0m\u001b[37m\u001b[0m \u001b[1m4s\u001b[0m 3ms/step - loss: 4.0831 - product_output_accuracy: 0.3709 - rating_output_mae: 0.7271 - val_loss: 3.7031 - val_product_output_accuracy: 0.4467 - val_rating_output_mae: 0.6936\n",
            "Epoch 28/100\n",
            "\u001b[1m916/916\u001b[0m \u001b[32m━━━━━━━━━━━━━━━━━━━━\u001b[0m\u001b[37m\u001b[0m \u001b[1m6s\u001b[0m 4ms/step - loss: 4.0503 - product_output_accuracy: 0.3826 - rating_output_mae: 0.7317 - val_loss: 3.6716 - val_product_output_accuracy: 0.4526 - val_rating_output_mae: 0.6951\n",
            "Epoch 29/100\n",
            "\u001b[1m916/916\u001b[0m \u001b[32m━━━━━━━━━━━━━━━━━━━━\u001b[0m\u001b[37m\u001b[0m \u001b[1m5s\u001b[0m 4ms/step - loss: 3.9737 - product_output_accuracy: 0.3908 - rating_output_mae: 0.7210 - val_loss: 3.6469 - val_product_output_accuracy: 0.4537 - val_rating_output_mae: 0.7016\n",
            "Epoch 30/100\n",
            "\u001b[1m916/916\u001b[0m \u001b[32m━━━━━━━━━━━━━━━━━━━━\u001b[0m\u001b[37m\u001b[0m \u001b[1m5s\u001b[0m 3ms/step - loss: 3.9733 - product_output_accuracy: 0.3959 - rating_output_mae: 0.7311 - val_loss: 3.6087 - val_product_output_accuracy: 0.4647 - val_rating_output_mae: 0.7116\n",
            "Epoch 31/100\n",
            "\u001b[1m916/916\u001b[0m \u001b[32m━━━━━━━━━━━━━━━━━━━━\u001b[0m\u001b[37m\u001b[0m \u001b[1m4s\u001b[0m 4ms/step - loss: 3.9611 - product_output_accuracy: 0.4015 - rating_output_mae: 0.7317 - val_loss: 3.5929 - val_product_output_accuracy: 0.4824 - val_rating_output_mae: 0.6908\n",
            "Epoch 32/100\n",
            "\u001b[1m916/916\u001b[0m \u001b[32m━━━━━━━━━━━━━━━━━━━━\u001b[0m\u001b[37m\u001b[0m \u001b[1m5s\u001b[0m 4ms/step - loss: 3.8858 - product_output_accuracy: 0.4084 - rating_output_mae: 0.7189 - val_loss: 3.5665 - val_product_output_accuracy: 0.4818 - val_rating_output_mae: 0.7103\n",
            "Epoch 33/100\n",
            "\u001b[1m916/916\u001b[0m \u001b[32m━━━━━━━━━━━━━━━━━━━━\u001b[0m\u001b[37m\u001b[0m \u001b[1m5s\u001b[0m 3ms/step - loss: 3.8812 - product_output_accuracy: 0.4131 - rating_output_mae: 0.7186 - val_loss: 3.5525 - val_product_output_accuracy: 0.4857 - val_rating_output_mae: 0.6977\n",
            "Epoch 34/100\n",
            "\u001b[1m916/916\u001b[0m \u001b[32m━━━━━━━━━━━━━━━━━━━━\u001b[0m\u001b[37m\u001b[0m \u001b[1m6s\u001b[0m 4ms/step - loss: 3.8684 - product_output_accuracy: 0.4222 - rating_output_mae: 0.7203 - val_loss: 3.5331 - val_product_output_accuracy: 0.4969 - val_rating_output_mae: 0.7060\n",
            "Epoch 35/100\n",
            "\u001b[1m916/916\u001b[0m \u001b[32m━━━━━━━━━━━━━━━━━━━━\u001b[0m\u001b[37m\u001b[0m \u001b[1m4s\u001b[0m 3ms/step - loss: 3.8692 - product_output_accuracy: 0.4208 - rating_output_mae: 0.7233 - val_loss: 3.5102 - val_product_output_accuracy: 0.5128 - val_rating_output_mae: 0.7098\n",
            "Epoch 36/100\n",
            "\u001b[1m916/916\u001b[0m \u001b[32m━━━━━━━━━━━━━━━━━━━━\u001b[0m\u001b[37m\u001b[0m \u001b[1m5s\u001b[0m 4ms/step - loss: 3.8149 - product_output_accuracy: 0.4319 - rating_output_mae: 0.7215 - val_loss: 3.4986 - val_product_output_accuracy: 0.5194 - val_rating_output_mae: 0.7051\n",
            "Epoch 37/100\n",
            "\u001b[1m916/916\u001b[0m \u001b[32m━━━━━━━━━━━━━━━━━━━━\u001b[0m\u001b[37m\u001b[0m \u001b[1m5s\u001b[0m 4ms/step - loss: 3.8353 - product_output_accuracy: 0.4318 - rating_output_mae: 0.7314 - val_loss: 3.4757 - val_product_output_accuracy: 0.5375 - val_rating_output_mae: 0.6878\n",
            "Epoch 38/100\n",
            "\u001b[1m916/916\u001b[0m \u001b[32m━━━━━━━━━━━━━━━━━━━━\u001b[0m\u001b[37m\u001b[0m \u001b[1m5s\u001b[0m 3ms/step - loss: 3.8176 - product_output_accuracy: 0.4359 - rating_output_mae: 0.7249 - val_loss: 3.4572 - val_product_output_accuracy: 0.5319 - val_rating_output_mae: 0.7070\n",
            "Epoch 39/100\n",
            "\u001b[1m916/916\u001b[0m \u001b[32m━━━━━━━━━━━━━━━━━━━━\u001b[0m\u001b[37m\u001b[0m \u001b[1m4s\u001b[0m 4ms/step - loss: 3.7950 - product_output_accuracy: 0.4417 - rating_output_mae: 0.7284 - val_loss: 3.4390 - val_product_output_accuracy: 0.5329 - val_rating_output_mae: 0.7096\n",
            "Epoch 40/100\n",
            "\u001b[1m916/916\u001b[0m \u001b[32m━━━━━━━━━━━━━━━━━━━━\u001b[0m\u001b[37m\u001b[0m \u001b[1m5s\u001b[0m 3ms/step - loss: 3.7731 - product_output_accuracy: 0.4400 - rating_output_mae: 0.7242 - val_loss: 3.4273 - val_product_output_accuracy: 0.5441 - val_rating_output_mae: 0.7032\n",
            "Epoch 41/100\n",
            "\u001b[1m916/916\u001b[0m \u001b[32m━━━━━━━━━━━━━━━━━━━━\u001b[0m\u001b[37m\u001b[0m \u001b[1m5s\u001b[0m 4ms/step - loss: 3.7372 - product_output_accuracy: 0.4498 - rating_output_mae: 0.7209 - val_loss: 3.4233 - val_product_output_accuracy: 0.5458 - val_rating_output_mae: 0.7002\n",
            "Epoch 42/100\n",
            "\u001b[1m916/916\u001b[0m \u001b[32m━━━━━━━━━━━━━━━━━━━━\u001b[0m\u001b[37m\u001b[0m \u001b[1m6s\u001b[0m 4ms/step - loss: 3.7521 - product_output_accuracy: 0.4529 - rating_output_mae: 0.7281 - val_loss: 3.4098 - val_product_output_accuracy: 0.5424 - val_rating_output_mae: 0.6930\n",
            "Epoch 43/100\n",
            "\u001b[1m916/916\u001b[0m \u001b[32m━━━━━━━━━━━━━━━━━━━━\u001b[0m\u001b[37m\u001b[0m \u001b[1m3s\u001b[0m 4ms/step - loss: 3.7493 - product_output_accuracy: 0.4529 - rating_output_mae: 0.7301 - val_loss: 3.3940 - val_product_output_accuracy: 0.5585 - val_rating_output_mae: 0.7150\n",
            "Epoch 44/100\n",
            "\u001b[1m916/916\u001b[0m \u001b[32m━━━━━━━━━━━━━━━━━━━━\u001b[0m\u001b[37m\u001b[0m \u001b[1m5s\u001b[0m 4ms/step - loss: 3.7173 - product_output_accuracy: 0.4606 - rating_output_mae: 0.7272 - val_loss: 3.3684 - val_product_output_accuracy: 0.5611 - val_rating_output_mae: 0.7024\n",
            "Epoch 45/100\n",
            "\u001b[1m916/916\u001b[0m \u001b[32m━━━━━━━━━━━━━━━━━━━━\u001b[0m\u001b[37m\u001b[0m \u001b[1m6s\u001b[0m 4ms/step - loss: 3.7218 - product_output_accuracy: 0.4599 - rating_output_mae: 0.7280 - val_loss: 3.3607 - val_product_output_accuracy: 0.5659 - val_rating_output_mae: 0.7165\n",
            "Epoch 46/100\n",
            "\u001b[1m916/916\u001b[0m \u001b[32m━━━━━━━━━━━━━━━━━━━━\u001b[0m\u001b[37m\u001b[0m \u001b[1m4s\u001b[0m 3ms/step - loss: 3.6919 - product_output_accuracy: 0.4667 - rating_output_mae: 0.7315 - val_loss: 3.3636 - val_product_output_accuracy: 0.5629 - val_rating_output_mae: 0.7090\n",
            "Epoch 47/100\n",
            "\u001b[1m916/916\u001b[0m \u001b[32m━━━━━━━━━━━━━━━━━━━━\u001b[0m\u001b[37m\u001b[0m \u001b[1m3s\u001b[0m 3ms/step - loss: 3.6685 - product_output_accuracy: 0.4694 - rating_output_mae: 0.7224 - val_loss: 3.3413 - val_product_output_accuracy: 0.5689 - val_rating_output_mae: 0.7161\n",
            "Epoch 48/100\n",
            "\u001b[1m916/916\u001b[0m \u001b[32m━━━━━━━━━━━━━━━━━━━━\u001b[0m\u001b[37m\u001b[0m \u001b[1m4s\u001b[0m 4ms/step - loss: 3.6681 - product_output_accuracy: 0.4724 - rating_output_mae: 0.7263 - val_loss: 3.3430 - val_product_output_accuracy: 0.5746 - val_rating_output_mae: 0.7094\n",
            "Epoch 49/100\n",
            "\u001b[1m916/916\u001b[0m \u001b[32m━━━━━━━━━━━━━━━━━━━━\u001b[0m\u001b[37m\u001b[0m \u001b[1m4s\u001b[0m 4ms/step - loss: 3.6617 - product_output_accuracy: 0.4769 - rating_output_mae: 0.7297 - val_loss: 3.3126 - val_product_output_accuracy: 0.5735 - val_rating_output_mae: 0.7002\n",
            "Epoch 50/100\n",
            "\u001b[1m916/916\u001b[0m \u001b[32m━━━━━━━━━━━━━━━━━━━━\u001b[0m\u001b[37m\u001b[0m \u001b[1m3s\u001b[0m 4ms/step - loss: 3.6501 - product_output_accuracy: 0.4779 - rating_output_mae: 0.7263 - val_loss: 3.3067 - val_product_output_accuracy: 0.5749 - val_rating_output_mae: 0.7122\n",
            "Epoch 51/100\n",
            "\u001b[1m916/916\u001b[0m \u001b[32m━━━━━━━━━━━━━━━━━━━━\u001b[0m\u001b[37m\u001b[0m \u001b[1m5s\u001b[0m 3ms/step - loss: 3.6438 - product_output_accuracy: 0.4795 - rating_output_mae: 0.7286 - val_loss: 3.2929 - val_product_output_accuracy: 0.5753 - val_rating_output_mae: 0.6983\n",
            "Epoch 52/100\n",
            "\u001b[1m916/916\u001b[0m \u001b[32m━━━━━━━━━━━━━━━━━━━━\u001b[0m\u001b[37m\u001b[0m \u001b[1m4s\u001b[0m 5ms/step - loss: 3.6521 - product_output_accuracy: 0.4794 - rating_output_mae: 0.7245 - val_loss: 3.3002 - val_product_output_accuracy: 0.5773 - val_rating_output_mae: 0.6972\n",
            "Epoch 53/100\n",
            "\u001b[1m916/916\u001b[0m \u001b[32m━━━━━━━━━━━━━━━━━━━━\u001b[0m\u001b[37m\u001b[0m \u001b[1m4s\u001b[0m 3ms/step - loss: 3.6309 - product_output_accuracy: 0.4832 - rating_output_mae: 0.7241 - val_loss: 3.2820 - val_product_output_accuracy: 0.5769 - val_rating_output_mae: 0.6917\n",
            "Epoch 54/100\n",
            "\u001b[1m916/916\u001b[0m \u001b[32m━━━━━━━━━━━━━━━━━━━━\u001b[0m\u001b[37m\u001b[0m \u001b[1m3s\u001b[0m 4ms/step - loss: 3.5974 - product_output_accuracy: 0.4900 - rating_output_mae: 0.7210 - val_loss: 3.2749 - val_product_output_accuracy: 0.5765 - val_rating_output_mae: 0.6989\n",
            "Epoch 55/100\n",
            "\u001b[1m916/916\u001b[0m \u001b[32m━━━━━━━━━━━━━━━━━━━━\u001b[0m\u001b[37m\u001b[0m \u001b[1m3s\u001b[0m 4ms/step - loss: 3.5905 - product_output_accuracy: 0.4933 - rating_output_mae: 0.7236 - val_loss: 3.2710 - val_product_output_accuracy: 0.5795 - val_rating_output_mae: 0.7069\n",
            "Epoch 56/100\n",
            "\u001b[1m916/916\u001b[0m \u001b[32m━━━━━━━━━━━━━━━━━━━━\u001b[0m\u001b[37m\u001b[0m \u001b[1m4s\u001b[0m 4ms/step - loss: 3.5845 - product_output_accuracy: 0.4944 - rating_output_mae: 0.7228 - val_loss: 3.2583 - val_product_output_accuracy: 0.5813 - val_rating_output_mae: 0.7135\n",
            "Epoch 57/100\n",
            "\u001b[1m916/916\u001b[0m \u001b[32m━━━━━━━━━━━━━━━━━━━━\u001b[0m\u001b[37m\u001b[0m \u001b[1m4s\u001b[0m 4ms/step - loss: 3.5572 - product_output_accuracy: 0.4954 - rating_output_mae: 0.7205 - val_loss: 3.2390 - val_product_output_accuracy: 0.5815 - val_rating_output_mae: 0.6971\n",
            "Epoch 58/100\n",
            "\u001b[1m916/916\u001b[0m \u001b[32m━━━━━━━━━━━━━━━━━━━━\u001b[0m\u001b[37m\u001b[0m \u001b[1m5s\u001b[0m 4ms/step - loss: 3.5650 - product_output_accuracy: 0.4988 - rating_output_mae: 0.7248 - val_loss: 3.2427 - val_product_output_accuracy: 0.5822 - val_rating_output_mae: 0.6830\n",
            "Epoch 59/100\n",
            "\u001b[1m916/916\u001b[0m \u001b[32m━━━━━━━━━━━━━━━━━━━━\u001b[0m\u001b[37m\u001b[0m \u001b[1m4s\u001b[0m 4ms/step - loss: 3.5458 - product_output_accuracy: 0.5011 - rating_output_mae: 0.7215 - val_loss: 3.2355 - val_product_output_accuracy: 0.5841 - val_rating_output_mae: 0.7107\n",
            "Epoch 60/100\n",
            "\u001b[1m916/916\u001b[0m \u001b[32m━━━━━━━━━━━━━━━━━━━━\u001b[0m\u001b[37m\u001b[0m \u001b[1m3s\u001b[0m 3ms/step - loss: 3.5526 - product_output_accuracy: 0.5050 - rating_output_mae: 0.7296 - val_loss: 3.2372 - val_product_output_accuracy: 0.5840 - val_rating_output_mae: 0.6959\n",
            "Epoch 61/100\n",
            "\u001b[1m916/916\u001b[0m \u001b[32m━━━━━━━━━━━━━━━━━━━━\u001b[0m\u001b[37m\u001b[0m \u001b[1m3s\u001b[0m 3ms/step - loss: 3.5388 - product_output_accuracy: 0.5033 - rating_output_mae: 0.7243 - val_loss: 3.2349 - val_product_output_accuracy: 0.5797 - val_rating_output_mae: 0.7147\n",
            "Epoch 62/100\n",
            "\u001b[1m916/916\u001b[0m \u001b[32m━━━━━━━━━━━━━━━━━━━━\u001b[0m\u001b[37m\u001b[0m \u001b[1m6s\u001b[0m 4ms/step - loss: 3.5355 - product_output_accuracy: 0.5063 - rating_output_mae: 0.7254 - val_loss: 3.2170 - val_product_output_accuracy: 0.5849 - val_rating_output_mae: 0.6948\n",
            "Epoch 63/100\n",
            "\u001b[1m916/916\u001b[0m \u001b[32m━━━━━━━━━━━━━━━━━━━━\u001b[0m\u001b[37m\u001b[0m \u001b[1m4s\u001b[0m 3ms/step - loss: 3.4937 - product_output_accuracy: 0.5132 - rating_output_mae: 0.7123 - val_loss: 3.2108 - val_product_output_accuracy: 0.5870 - val_rating_output_mae: 0.7101\n",
            "Epoch 64/100\n",
            "\u001b[1m916/916\u001b[0m \u001b[32m━━━━━━━━━━━━━━━━━━━━\u001b[0m\u001b[37m\u001b[0m \u001b[1m3s\u001b[0m 4ms/step - loss: 3.5127 - product_output_accuracy: 0.5124 - rating_output_mae: 0.7240 - val_loss: 3.2096 - val_product_output_accuracy: 0.5877 - val_rating_output_mae: 0.6974\n",
            "Epoch 65/100\n",
            "\u001b[1m916/916\u001b[0m \u001b[32m━━━━━━━━━━━━━━━━━━━━\u001b[0m\u001b[37m\u001b[0m \u001b[1m3s\u001b[0m 4ms/step - loss: 3.5053 - product_output_accuracy: 0.5115 - rating_output_mae: 0.7167 - val_loss: 3.2101 - val_product_output_accuracy: 0.5889 - val_rating_output_mae: 0.6963\n",
            "Epoch 66/100\n",
            "\u001b[1m916/916\u001b[0m \u001b[32m━━━━━━━━━━━━━━━━━━━━\u001b[0m\u001b[37m\u001b[0m \u001b[1m5s\u001b[0m 3ms/step - loss: 3.4934 - product_output_accuracy: 0.5165 - rating_output_mae: 0.7187 - val_loss: 3.2071 - val_product_output_accuracy: 0.5860 - val_rating_output_mae: 0.7003\n",
            "Epoch 67/100\n",
            "\u001b[1m916/916\u001b[0m \u001b[32m━━━━━━━━━━━━━━━━━━━━\u001b[0m\u001b[37m\u001b[0m \u001b[1m3s\u001b[0m 4ms/step - loss: 3.4973 - product_output_accuracy: 0.5162 - rating_output_mae: 0.7214 - val_loss: 3.1995 - val_product_output_accuracy: 0.5907 - val_rating_output_mae: 0.6943\n",
            "Epoch 68/100\n",
            "\u001b[1m916/916\u001b[0m \u001b[32m━━━━━━━━━━━━━━━━━━━━\u001b[0m\u001b[37m\u001b[0m \u001b[1m3s\u001b[0m 4ms/step - loss: 3.4815 - product_output_accuracy: 0.5145 - rating_output_mae: 0.7203 - val_loss: 3.1798 - val_product_output_accuracy: 0.5918 - val_rating_output_mae: 0.7074\n",
            "Epoch 69/100\n",
            "\u001b[1m916/916\u001b[0m \u001b[32m━━━━━━━━━━━━━━━━━━━━\u001b[0m\u001b[37m\u001b[0m \u001b[1m6s\u001b[0m 4ms/step - loss: 3.4763 - product_output_accuracy: 0.5196 - rating_output_mae: 0.7226 - val_loss: 3.1880 - val_product_output_accuracy: 0.5930 - val_rating_output_mae: 0.7100\n",
            "Epoch 70/100\n",
            "\u001b[1m916/916\u001b[0m \u001b[32m━━━━━━━━━━━━━━━━━━━━\u001b[0m\u001b[37m\u001b[0m \u001b[1m4s\u001b[0m 3ms/step - loss: 3.4626 - product_output_accuracy: 0.5221 - rating_output_mae: 0.7207 - val_loss: 3.1873 - val_product_output_accuracy: 0.5906 - val_rating_output_mae: 0.7077\n",
            "Epoch 71/100\n",
            "\u001b[1m916/916\u001b[0m \u001b[32m━━━━━━━━━━━━━━━━━━━━\u001b[0m\u001b[37m\u001b[0m \u001b[1m3s\u001b[0m 3ms/step - loss: 3.4882 - product_output_accuracy: 0.5198 - rating_output_mae: 0.7196 - val_loss: 3.1696 - val_product_output_accuracy: 0.5896 - val_rating_output_mae: 0.6966\n",
            "Epoch 72/100\n",
            "\u001b[1m916/916\u001b[0m \u001b[32m━━━━━━━━━━━━━━━━━━━━\u001b[0m\u001b[37m\u001b[0m \u001b[1m6s\u001b[0m 4ms/step - loss: 3.4791 - product_output_accuracy: 0.5200 - rating_output_mae: 0.7231 - val_loss: 3.1796 - val_product_output_accuracy: 0.5932 - val_rating_output_mae: 0.6982\n",
            "Epoch 73/100\n",
            "\u001b[1m916/916\u001b[0m \u001b[32m━━━━━━━━━━━━━━━━━━━━\u001b[0m\u001b[37m\u001b[0m \u001b[1m3s\u001b[0m 4ms/step - loss: 3.4646 - product_output_accuracy: 0.5199 - rating_output_mae: 0.7168 - val_loss: 3.1600 - val_product_output_accuracy: 0.5948 - val_rating_output_mae: 0.7088\n",
            "Epoch 74/100\n",
            "\u001b[1m916/916\u001b[0m \u001b[32m━━━━━━━━━━━━━━━━━━━━\u001b[0m\u001b[37m\u001b[0m \u001b[1m5s\u001b[0m 4ms/step - loss: 3.4440 - product_output_accuracy: 0.5300 - rating_output_mae: 0.7197 - val_loss: 3.1828 - val_product_output_accuracy: 0.5899 - val_rating_output_mae: 0.7073\n",
            "Epoch 75/100\n",
            "\u001b[1m916/916\u001b[0m \u001b[32m━━━━━━━━━━━━━━━━━━━━\u001b[0m\u001b[37m\u001b[0m \u001b[1m4s\u001b[0m 5ms/step - loss: 3.4557 - product_output_accuracy: 0.5264 - rating_output_mae: 0.7184 - val_loss: 3.1687 - val_product_output_accuracy: 0.5961 - val_rating_output_mae: 0.7141\n",
            "Epoch 76/100\n",
            "\u001b[1m916/916\u001b[0m \u001b[32m━━━━━━━━━━━━━━━━━━━━\u001b[0m\u001b[37m\u001b[0m \u001b[1m4s\u001b[0m 4ms/step - loss: 3.4758 - product_output_accuracy: 0.5285 - rating_output_mae: 0.7308 - val_loss: 3.1576 - val_product_output_accuracy: 0.5946 - val_rating_output_mae: 0.7062\n",
            "Epoch 77/100\n",
            "\u001b[1m916/916\u001b[0m \u001b[32m━━━━━━━━━━━━━━━━━━━━\u001b[0m\u001b[37m\u001b[0m \u001b[1m3s\u001b[0m 4ms/step - loss: 3.4581 - product_output_accuracy: 0.5307 - rating_output_mae: 0.7292 - val_loss: 3.1490 - val_product_output_accuracy: 0.5959 - val_rating_output_mae: 0.7031\n",
            "Epoch 78/100\n",
            "\u001b[1m916/916\u001b[0m \u001b[32m━━━━━━━━━━━━━━━━━━━━\u001b[0m\u001b[37m\u001b[0m \u001b[1m6s\u001b[0m 5ms/step - loss: 3.4302 - product_output_accuracy: 0.5302 - rating_output_mae: 0.7160 - val_loss: 3.1524 - val_product_output_accuracy: 0.5937 - val_rating_output_mae: 0.6909\n",
            "Epoch 79/100\n",
            "\u001b[1m916/916\u001b[0m \u001b[32m━━━━━━━━━━━━━━━━━━━━\u001b[0m\u001b[37m\u001b[0m \u001b[1m3s\u001b[0m 3ms/step - loss: 3.4547 - product_output_accuracy: 0.5335 - rating_output_mae: 0.7290 - val_loss: 3.1652 - val_product_output_accuracy: 0.5945 - val_rating_output_mae: 0.6891\n",
            "Epoch 80/100\n",
            "\u001b[1m916/916\u001b[0m \u001b[32m━━━━━━━━━━━━━━━━━━━━\u001b[0m\u001b[37m\u001b[0m \u001b[1m3s\u001b[0m 3ms/step - loss: 3.3873 - product_output_accuracy: 0.5391 - rating_output_mae: 0.7155 - val_loss: 3.1585 - val_product_output_accuracy: 0.5941 - val_rating_output_mae: 0.7116\n",
            "Epoch 81/100\n",
            "\u001b[1m916/916\u001b[0m \u001b[32m━━━━━━━━━━━━━━━━━━━━\u001b[0m\u001b[37m\u001b[0m \u001b[1m3s\u001b[0m 4ms/step - loss: 3.4405 - product_output_accuracy: 0.5355 - rating_output_mae: 0.7256 - val_loss: 3.1489 - val_product_output_accuracy: 0.5957 - val_rating_output_mae: 0.7017\n",
            "Epoch 82/100\n",
            "\u001b[1m916/916\u001b[0m \u001b[32m━━━━━━━━━━━━━━━━━━━━\u001b[0m\u001b[37m\u001b[0m \u001b[1m5s\u001b[0m 4ms/step - loss: 3.4523 - product_output_accuracy: 0.5332 - rating_output_mae: 0.7249 - val_loss: 3.1619 - val_product_output_accuracy: 0.5953 - val_rating_output_mae: 0.7107\n",
            "Epoch 83/100\n",
            "\u001b[1m916/916\u001b[0m \u001b[32m━━━━━━━━━━━━━━━━━━━━\u001b[0m\u001b[37m\u001b[0m \u001b[1m3s\u001b[0m 3ms/step - loss: 3.4233 - product_output_accuracy: 0.5340 - rating_output_mae: 0.7188 - val_loss: 3.1470 - val_product_output_accuracy: 0.5961 - val_rating_output_mae: 0.7035\n",
            "Epoch 84/100\n",
            "\u001b[1m916/916\u001b[0m \u001b[32m━━━━━━━━━━━━━━━━━━━━\u001b[0m\u001b[37m\u001b[0m \u001b[1m5s\u001b[0m 3ms/step - loss: 3.4330 - product_output_accuracy: 0.5366 - rating_output_mae: 0.7309 - val_loss: 3.1508 - val_product_output_accuracy: 0.5960 - val_rating_output_mae: 0.7132\n",
            "Epoch 85/100\n",
            "\u001b[1m916/916\u001b[0m \u001b[32m━━━━━━━━━━━━━━━━━━━━\u001b[0m\u001b[37m\u001b[0m \u001b[1m5s\u001b[0m 3ms/step - loss: 3.3760 - product_output_accuracy: 0.5390 - rating_output_mae: 0.7140 - val_loss: 3.1435 - val_product_output_accuracy: 0.5968 - val_rating_output_mae: 0.7054\n",
            "Epoch 86/100\n",
            "\u001b[1m916/916\u001b[0m \u001b[32m━━━━━━━━━━━━━━━━━━━━\u001b[0m\u001b[37m\u001b[0m \u001b[1m5s\u001b[0m 3ms/step - loss: 3.4008 - product_output_accuracy: 0.5368 - rating_output_mae: 0.7175 - val_loss: 3.1406 - val_product_output_accuracy: 0.5963 - val_rating_output_mae: 0.7133\n",
            "Epoch 87/100\n",
            "\u001b[1m916/916\u001b[0m \u001b[32m━━━━━━━━━━━━━━━━━━━━\u001b[0m\u001b[37m\u001b[0m \u001b[1m3s\u001b[0m 4ms/step - loss: 3.4118 - product_output_accuracy: 0.5364 - rating_output_mae: 0.7178 - val_loss: 3.1543 - val_product_output_accuracy: 0.5953 - val_rating_output_mae: 0.6991\n",
            "Epoch 88/100\n",
            "\u001b[1m916/916\u001b[0m \u001b[32m━━━━━━━━━━━━━━━━━━━━\u001b[0m\u001b[37m\u001b[0m \u001b[1m5s\u001b[0m 4ms/step - loss: 3.4142 - product_output_accuracy: 0.5394 - rating_output_mae: 0.7227 - val_loss: 3.1487 - val_product_output_accuracy: 0.5943 - val_rating_output_mae: 0.6962\n",
            "Epoch 89/100\n",
            "\u001b[1m916/916\u001b[0m \u001b[32m━━━━━━━━━━━━━━━━━━━━\u001b[0m\u001b[37m\u001b[0m \u001b[1m5s\u001b[0m 4ms/step - loss: 3.4212 - product_output_accuracy: 0.5411 - rating_output_mae: 0.7246 - val_loss: 3.1478 - val_product_output_accuracy: 0.5952 - val_rating_output_mae: 0.6963\n",
            "Epoch 90/100\n",
            "\u001b[1m916/916\u001b[0m \u001b[32m━━━━━━━━━━━━━━━━━━━━\u001b[0m\u001b[37m\u001b[0m \u001b[1m4s\u001b[0m 4ms/step - loss: 3.3822 - product_output_accuracy: 0.5452 - rating_output_mae: 0.7170 - val_loss: 3.1402 - val_product_output_accuracy: 0.5968 - val_rating_output_mae: 0.7088\n",
            "Epoch 91/100\n",
            "\u001b[1m916/916\u001b[0m \u001b[32m━━━━━━━━━━━━━━━━━━━━\u001b[0m\u001b[37m\u001b[0m \u001b[1m5s\u001b[0m 4ms/step - loss: 3.4025 - product_output_accuracy: 0.5444 - rating_output_mae: 0.7306 - val_loss: 3.1289 - val_product_output_accuracy: 0.5972 - val_rating_output_mae: 0.7036\n",
            "Epoch 92/100\n",
            "\u001b[1m916/916\u001b[0m \u001b[32m━━━━━━━━━━━━━━━━━━━━\u001b[0m\u001b[37m\u001b[0m \u001b[1m5s\u001b[0m 3ms/step - loss: 3.4117 - product_output_accuracy: 0.5430 - rating_output_mae: 0.7280 - val_loss: 3.1315 - val_product_output_accuracy: 0.5970 - val_rating_output_mae: 0.6973\n",
            "Epoch 93/100\n",
            "\u001b[1m916/916\u001b[0m \u001b[32m━━━━━━━━━━━━━━━━━━━━\u001b[0m\u001b[37m\u001b[0m \u001b[1m6s\u001b[0m 4ms/step - loss: 3.3978 - product_output_accuracy: 0.5457 - rating_output_mae: 0.7260 - val_loss: 3.1446 - val_product_output_accuracy: 0.5967 - val_rating_output_mae: 0.6982\n",
            "Epoch 94/100\n",
            "\u001b[1m916/916\u001b[0m \u001b[32m━━━━━━━━━━━━━━━━━━━━\u001b[0m\u001b[37m\u001b[0m \u001b[1m5s\u001b[0m 4ms/step - loss: 3.3616 - product_output_accuracy: 0.5507 - rating_output_mae: 0.7157 - val_loss: 3.1505 - val_product_output_accuracy: 0.5980 - val_rating_output_mae: 0.6990\n",
            "Epoch 95/100\n",
            "\u001b[1m916/916\u001b[0m \u001b[32m━━━━━━━━━━━━━━━━━━━━\u001b[0m\u001b[37m\u001b[0m \u001b[1m3s\u001b[0m 3ms/step - loss: 3.3984 - product_output_accuracy: 0.5436 - rating_output_mae: 0.7265 - val_loss: 3.1380 - val_product_output_accuracy: 0.5988 - val_rating_output_mae: 0.6952\n",
            "Epoch 96/100\n",
            "\u001b[1m916/916\u001b[0m \u001b[32m━━━━━━━━━━━━━━━━━━━━\u001b[0m\u001b[37m\u001b[0m \u001b[1m4s\u001b[0m 4ms/step - loss: 3.3828 - product_output_accuracy: 0.5456 - rating_output_mae: 0.7185 - val_loss: 3.1327 - val_product_output_accuracy: 0.5959 - val_rating_output_mae: 0.7022\n",
            "Epoch 97/100\n",
            "\u001b[1m916/916\u001b[0m \u001b[32m━━━━━━━━━━━━━━━━━━━━\u001b[0m\u001b[37m\u001b[0m \u001b[1m4s\u001b[0m 4ms/step - loss: 3.3867 - product_output_accuracy: 0.5478 - rating_output_mae: 0.7269 - val_loss: 3.1240 - val_product_output_accuracy: 0.5985 - val_rating_output_mae: 0.7037\n",
            "Epoch 98/100\n",
            "\u001b[1m916/916\u001b[0m \u001b[32m━━━━━━━━━━━━━━━━━━━━\u001b[0m\u001b[37m\u001b[0m \u001b[1m5s\u001b[0m 3ms/step - loss: 3.4093 - product_output_accuracy: 0.5478 - rating_output_mae: 0.7351 - val_loss: 3.1449 - val_product_output_accuracy: 0.5982 - val_rating_output_mae: 0.6970\n",
            "Epoch 99/100\n",
            "\u001b[1m916/916\u001b[0m \u001b[32m━━━━━━━━━━━━━━━━━━━━\u001b[0m\u001b[37m\u001b[0m \u001b[1m3s\u001b[0m 3ms/step - loss: 3.3794 - product_output_accuracy: 0.5466 - rating_output_mae: 0.7197 - val_loss: 3.1386 - val_product_output_accuracy: 0.5975 - val_rating_output_mae: 0.7030\n",
            "Epoch 100/100\n",
            "\u001b[1m916/916\u001b[0m \u001b[32m━━━━━━━━━━━━━━━━━━━━\u001b[0m\u001b[37m\u001b[0m \u001b[1m6s\u001b[0m 4ms/step - loss: 3.3746 - product_output_accuracy: 0.5480 - rating_output_mae: 0.7213 - val_loss: 3.1226 - val_product_output_accuracy: 0.5971 - val_rating_output_mae: 0.7022\n"
          ]
        },
        {
          "output_type": "execute_result",
          "data": {
            "text/plain": [
              "<keras.src.callbacks.history.History at 0x7e2339d48a30>"
            ]
          },
          "metadata": {},
          "execution_count": 100
        }
      ],
      "source": [
        "# Train the model\n",
        "model.fit(X_train_padded, {'product_output': y_train_products, 'rating_output': y_train_ratings},\n",
        "          validation_split=0.2, epochs=100, batch_size=64, callbacks=[early_stopping])"
      ]
    },
    {
      "cell_type": "markdown",
      "metadata": {
        "id": "-Nv5aANLBtir"
      },
      "source": [
        "the processing of training data was different need so creating another one for test"
      ]
    },
    {
      "cell_type": "code",
      "execution_count": 101,
      "metadata": {
        "id": "avr4tHW9BndN"
      },
      "outputs": [],
      "source": [
        "def process_test_data(df, seqlen):\n",
        "    user_groups = df.groupby('reviewerID')\n",
        "    X_test, y_test_products, y_test_ratings = [], [], []\n",
        "    j = 0 #for checking progress\n",
        "    for user, user_data in user_groups:\n",
        "        user_data = user_data.sort_values(by='date')\n",
        "        product_sequence = user_data['product_id'].values\n",
        "        rating_sequence = user_data['rating'].values\n",
        "\n",
        "        for i in range(1, len(product_sequence)):\n",
        "            X_test.append(product_sequence[:i])\n",
        "            y_test_products.append(product_sequence[i])\n",
        "            y_test_ratings.append(rating_sequence[i])\n",
        "            if j%10000 == 0:\n",
        "                print(j)\n",
        "            j+=1\n",
        "\n",
        "    # use the above created map to replace int values\n",
        "    # padded them so that i can give to model\n",
        "    X_mapped = [[product_id_map[prod] for prod in x] for x in X_test]\n",
        "    X_padded = pad_sequences(X_mapped, maxlen=seqlen)\n",
        "\n",
        "    y_mapped_products = np.array([product_id_map[prod] for prod in y_test_products], dtype=np.int32)\n",
        "    y_ratings = np.array(y_test_ratings, dtype=np.float32)\n",
        "\n",
        "    return X_padded, y_mapped_products, y_ratings\n"
      ]
    },
    {
      "cell_type": "code",
      "execution_count": 102,
      "metadata": {
        "id": "FX20rn9CCHBO",
        "colab": {
          "base_uri": "https://localhost:8080/"
        },
        "outputId": "dde3603b-895e-40c1-d127-7ab9a7eec1c1"
      },
      "outputs": [
        {
          "output_type": "stream",
          "name": "stdout",
          "text": [
            "0\n",
            "10000\n"
          ]
        }
      ],
      "source": [
        "X_test_padded, y_test_products, y_test_ratings = process_test_data(test_df, seqlen)\n"
      ]
    },
    {
      "cell_type": "code",
      "execution_count": 103,
      "metadata": {
        "colab": {
          "base_uri": "https://localhost:8080/"
        },
        "id": "8gkUd-jDDhUb",
        "outputId": "7eb2dbf8-86ff-4301-ec2a-522e5100d28d"
      },
      "outputs": [
        {
          "output_type": "stream",
          "name": "stdout",
          "text": [
            "\u001b[1m1/1\u001b[0m \u001b[32m━━━━━━━━━━━━━━━━━━━━\u001b[0m\u001b[37m\u001b[0m \u001b[1m1s\u001b[0m 672ms/step\n",
            "0\n",
            "\u001b[1m1/1\u001b[0m \u001b[32m━━━━━━━━━━━━━━━━━━━━\u001b[0m\u001b[37m\u001b[0m \u001b[1m0s\u001b[0m 62ms/step\n",
            "1\n",
            "\u001b[1m1/1\u001b[0m \u001b[32m━━━━━━━━━━━━━━━━━━━━\u001b[0m\u001b[37m\u001b[0m \u001b[1m0s\u001b[0m 59ms/step\n",
            "2\n",
            "\u001b[1m1/1\u001b[0m \u001b[32m━━━━━━━━━━━━━━━━━━━━\u001b[0m\u001b[37m\u001b[0m \u001b[1m0s\u001b[0m 55ms/step\n",
            "3\n",
            "\u001b[1m1/1\u001b[0m \u001b[32m━━━━━━━━━━━━━━━━━━━━\u001b[0m\u001b[37m\u001b[0m \u001b[1m0s\u001b[0m 57ms/step\n",
            "4\n",
            "\u001b[1m1/1\u001b[0m \u001b[32m━━━━━━━━━━━━━━━━━━━━\u001b[0m\u001b[37m\u001b[0m \u001b[1m0s\u001b[0m 93ms/step\n",
            "5\n",
            "\u001b[1m1/1\u001b[0m \u001b[32m━━━━━━━━━━━━━━━━━━━━\u001b[0m\u001b[37m\u001b[0m \u001b[1m0s\u001b[0m 101ms/step\n",
            "6\n",
            "\u001b[1m1/1\u001b[0m \u001b[32m━━━━━━━━━━━━━━━━━━━━\u001b[0m\u001b[37m\u001b[0m \u001b[1m0s\u001b[0m 84ms/step\n",
            "7\n",
            "\u001b[1m1/1\u001b[0m \u001b[32m━━━━━━━━━━━━━━━━━━━━\u001b[0m\u001b[37m\u001b[0m \u001b[1m1s\u001b[0m 911ms/step\n",
            "8\n"
          ]
        }
      ],
      "source": [
        "# Make predictions and evaluate\n",
        "predicted_product_ids = []\n",
        "predicted_ratings = []\n",
        "\n",
        "batch_size = 2048\n",
        "jay = 0\n",
        "for i in range(0, len(X_test_padded), batch_size):\n",
        "    input_batch = X_test_padded[i:i + batch_size]\n",
        "    predicted_product, predicted_rating = model.predict(input_batch, batch_size=batch_size)\n",
        "\n",
        "    predicted_product_ids.extend(np.argmax(predicted_product, axis=1))\n",
        "    predicted_ratings.extend(predicted_rating[:, 0])\n",
        "    print(jay)\n",
        "    jay+=1\n",
        "    K.clear_session()\n"
      ]
    },
    {
      "cell_type": "code",
      "execution_count": 106,
      "metadata": {
        "colab": {
          "base_uri": "https://localhost:8080/"
        },
        "id": "bwE4Nj6TDm5B",
        "outputId": "4701901e-36ec-47b9-9f2a-6b23d68f0f8e"
      },
      "outputs": [
        {
          "output_type": "stream",
          "name": "stdout",
          "text": [
            "MAE for ratings: 0.7117999792098999\n",
            "RMSE for ratings: 0.9802572727203369\n",
            "Accuracy for product prediction: 0.5987984346579949\n"
          ]
        }
      ],
      "source": [
        "# Evaluate the predictions\n",
        "mae = mean_absolute_error(y_test_ratings, predicted_ratings)\n",
        "mse = mean_squared_error(y_test_ratings, predicted_ratings)\n",
        "rmse = np.sqrt(mse)\n",
        "product_accuracy = np.mean(np.array(predicted_product_ids) == y_test_products)\n",
        "\n",
        "print(f\"MAE for ratings: {mae}\")\n",
        "print(f\"RMSE for ratings: {rmse}\")\n",
        "print(f\"Accuracy for product prediction: {product_accuracy}\")\n"
      ]
    },
    {
      "cell_type": "code",
      "execution_count": 105,
      "metadata": {
        "id": "_yli4OkHDpkA"
      },
      "outputs": [],
      "source": [
        "# save the model, so i dont have to train it again and again\n",
        "model.save('/content/drive/MyDrive/ML Project/phase2.keras')"
      ]
    }
  ],
  "metadata": {
    "accelerator": "GPU",
    "colab": {
      "gpuType": "T4",
      "provenance": []
    },
    "kernelspec": {
      "display_name": "Python 3",
      "name": "python3"
    },
    "language_info": {
      "name": "python"
    }
  },
  "nbformat": 4,
  "nbformat_minor": 0
}