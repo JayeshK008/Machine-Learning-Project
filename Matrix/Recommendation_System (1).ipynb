{
 "cells": [
  {
   "cell_type": "code",
   "execution_count": 68,
   "id": "7f5b28aa-3245-4e6f-ba06-e88daeb716ca",
   "metadata": {
    "id": "7f5b28aa-3245-4e6f-ba06-e88daeb716ca"
   },
   "outputs": [],
   "source": [
    "import pandas as pd\n",
    "import numpy as np\n",
    "import seaborn as sns\n",
    "from matplotlib import pyplot as plt"
   ]
  },
  {
   "cell_type": "code",
   "execution_count": 69,
   "id": "vCutSNmPvgmB",
   "metadata": {
    "colab": {
     "base_uri": "https://localhost:8080/",
     "height": 206
    },
    "id": "vCutSNmPvgmB",
    "outputId": "6a459fe8-4ad2-4811-e2a0-0bf1c719dedd"
   },
   "outputs": [
    {
     "data": {
      "text/plain": [
       "'import kagglehub\\nimport os\\npath = kagglehub.dataset_download(\"irvifa/amazon-product-reviews\")\\nfiles = os.listdir(path)\\nfile_path = os.path.join(path, \\'ratings_Electronics.csv\\')\\ndf=pd.read_csv(file_path)\\ndf.head()'"
      ]
     },
     "execution_count": 69,
     "metadata": {},
     "output_type": "execute_result"
    }
   ],
   "source": [
    "\"\"\"import kagglehub\n",
    "import os\n",
    "path = kagglehub.dataset_download(\"irvifa/amazon-product-reviews\")\n",
    "files = os.listdir(path)\n",
    "file_path = os.path.join(path, 'ratings_Electronics.csv')\n",
    "df=pd.read_csv(file_path)\n",
    "df.head()\"\"\""
   ]
  },
  {
   "cell_type": "code",
   "execution_count": 70,
   "id": "4f6767cc-19bb-4f50-8f06-336ad6c49d7b",
   "metadata": {
    "id": "4f6767cc-19bb-4f50-8f06-336ad6c49d7b"
   },
   "outputs": [
    {
     "data": {
      "text/html": [
       "<div>\n",
       "<style scoped>\n",
       "    .dataframe tbody tr th:only-of-type {\n",
       "        vertical-align: middle;\n",
       "    }\n",
       "\n",
       "    .dataframe tbody tr th {\n",
       "        vertical-align: top;\n",
       "    }\n",
       "\n",
       "    .dataframe thead th {\n",
       "        text-align: right;\n",
       "    }\n",
       "</style>\n",
       "<table border=\"1\" class=\"dataframe\">\n",
       "  <thead>\n",
       "    <tr style=\"text-align: right;\">\n",
       "      <th></th>\n",
       "      <th>AKM1MP6P0OYPR</th>\n",
       "      <th>0132793040</th>\n",
       "      <th>5.0</th>\n",
       "      <th>1365811200</th>\n",
       "    </tr>\n",
       "  </thead>\n",
       "  <tbody>\n",
       "    <tr>\n",
       "      <th>0</th>\n",
       "      <td>A2CX7LUOHB2NDG</td>\n",
       "      <td>0321732944</td>\n",
       "      <td>5.0</td>\n",
       "      <td>1341100800</td>\n",
       "    </tr>\n",
       "    <tr>\n",
       "      <th>1</th>\n",
       "      <td>A2NWSAGRHCP8N5</td>\n",
       "      <td>0439886341</td>\n",
       "      <td>1.0</td>\n",
       "      <td>1367193600</td>\n",
       "    </tr>\n",
       "    <tr>\n",
       "      <th>2</th>\n",
       "      <td>A2WNBOD3WNDNKT</td>\n",
       "      <td>0439886341</td>\n",
       "      <td>3.0</td>\n",
       "      <td>1374451200</td>\n",
       "    </tr>\n",
       "    <tr>\n",
       "      <th>3</th>\n",
       "      <td>A1GI0U4ZRJA8WN</td>\n",
       "      <td>0439886341</td>\n",
       "      <td>1.0</td>\n",
       "      <td>1334707200</td>\n",
       "    </tr>\n",
       "    <tr>\n",
       "      <th>4</th>\n",
       "      <td>A1QGNMC6O1VW39</td>\n",
       "      <td>0511189877</td>\n",
       "      <td>5.0</td>\n",
       "      <td>1397433600</td>\n",
       "    </tr>\n",
       "  </tbody>\n",
       "</table>\n",
       "</div>"
      ],
      "text/plain": [
       "    AKM1MP6P0OYPR  0132793040  5.0  1365811200\n",
       "0  A2CX7LUOHB2NDG  0321732944  5.0  1341100800\n",
       "1  A2NWSAGRHCP8N5  0439886341  1.0  1367193600\n",
       "2  A2WNBOD3WNDNKT  0439886341  3.0  1374451200\n",
       "3  A1GI0U4ZRJA8WN  0439886341  1.0  1334707200\n",
       "4  A1QGNMC6O1VW39  0511189877  5.0  1397433600"
      ]
     },
     "execution_count": 70,
     "metadata": {},
     "output_type": "execute_result"
    }
   ],
   "source": [
    "df=pd.read_csv('C:/Users/Rishav/Desktop/machine learning/ratings_Electronics.csv')\n",
    "df.head()"
   ]
  },
  {
   "cell_type": "code",
   "execution_count": 71,
   "id": "59f708fc-dc2f-4529-bb2e-0342b75745b0",
   "metadata": {
    "colab": {
     "base_uri": "https://localhost:8080/",
     "height": 206
    },
    "id": "59f708fc-dc2f-4529-bb2e-0342b75745b0",
    "outputId": "0dc62f30-249b-4ba6-f6e2-85ba8a030fc9"
   },
   "outputs": [
    {
     "data": {
      "text/html": [
       "<div>\n",
       "<style scoped>\n",
       "    .dataframe tbody tr th:only-of-type {\n",
       "        vertical-align: middle;\n",
       "    }\n",
       "\n",
       "    .dataframe tbody tr th {\n",
       "        vertical-align: top;\n",
       "    }\n",
       "\n",
       "    .dataframe thead th {\n",
       "        text-align: right;\n",
       "    }\n",
       "</style>\n",
       "<table border=\"1\" class=\"dataframe\">\n",
       "  <thead>\n",
       "    <tr style=\"text-align: right;\">\n",
       "      <th></th>\n",
       "      <th>userId</th>\n",
       "      <th>productId</th>\n",
       "      <th>ratings</th>\n",
       "      <th>timestamp</th>\n",
       "    </tr>\n",
       "  </thead>\n",
       "  <tbody>\n",
       "    <tr>\n",
       "      <th>0</th>\n",
       "      <td>A2CX7LUOHB2NDG</td>\n",
       "      <td>0321732944</td>\n",
       "      <td>5.0</td>\n",
       "      <td>1341100800</td>\n",
       "    </tr>\n",
       "    <tr>\n",
       "      <th>1</th>\n",
       "      <td>A2NWSAGRHCP8N5</td>\n",
       "      <td>0439886341</td>\n",
       "      <td>1.0</td>\n",
       "      <td>1367193600</td>\n",
       "    </tr>\n",
       "    <tr>\n",
       "      <th>2</th>\n",
       "      <td>A2WNBOD3WNDNKT</td>\n",
       "      <td>0439886341</td>\n",
       "      <td>3.0</td>\n",
       "      <td>1374451200</td>\n",
       "    </tr>\n",
       "    <tr>\n",
       "      <th>3</th>\n",
       "      <td>A1GI0U4ZRJA8WN</td>\n",
       "      <td>0439886341</td>\n",
       "      <td>1.0</td>\n",
       "      <td>1334707200</td>\n",
       "    </tr>\n",
       "    <tr>\n",
       "      <th>4</th>\n",
       "      <td>A1QGNMC6O1VW39</td>\n",
       "      <td>0511189877</td>\n",
       "      <td>5.0</td>\n",
       "      <td>1397433600</td>\n",
       "    </tr>\n",
       "  </tbody>\n",
       "</table>\n",
       "</div>"
      ],
      "text/plain": [
       "           userId   productId  ratings   timestamp\n",
       "0  A2CX7LUOHB2NDG  0321732944      5.0  1341100800\n",
       "1  A2NWSAGRHCP8N5  0439886341      1.0  1367193600\n",
       "2  A2WNBOD3WNDNKT  0439886341      3.0  1374451200\n",
       "3  A1GI0U4ZRJA8WN  0439886341      1.0  1334707200\n",
       "4  A1QGNMC6O1VW39  0511189877      5.0  1397433600"
      ]
     },
     "execution_count": 71,
     "metadata": {},
     "output_type": "execute_result"
    }
   ],
   "source": [
    "df.columns = ['userId', 'productId', 'ratings','timestamp']\n",
    "df.head()"
   ]
  },
  {
   "cell_type": "code",
   "execution_count": 72,
   "id": "a49a2633-c83b-487e-ad13-57bceab17c39",
   "metadata": {
    "colab": {
     "base_uri": "https://localhost:8080/"
    },
    "id": "a49a2633-c83b-487e-ad13-57bceab17c39",
    "outputId": "0d6043fb-1794-4649-eaa4-29f2c2b482cb"
   },
   "outputs": [
    {
     "name": "stdout",
     "output_type": "stream",
     "text": [
      "<class 'pandas.core.frame.DataFrame'>\n",
      "RangeIndex: 7824481 entries, 0 to 7824480\n",
      "Data columns (total 4 columns):\n",
      " #   Column     Dtype  \n",
      "---  ------     -----  \n",
      " 0   userId     object \n",
      " 1   productId  object \n",
      " 2   ratings    float64\n",
      " 3   timestamp  int64  \n",
      "dtypes: float64(1), int64(1), object(2)\n",
      "memory usage: 238.8+ MB\n"
     ]
    }
   ],
   "source": [
    "df.info()"
   ]
  },
  {
   "cell_type": "code",
   "execution_count": 73,
   "id": "8d52ce0c-e8ea-449e-94bd-9523db4a1a40",
   "metadata": {
    "colab": {
     "base_uri": "https://localhost:8080/"
    },
    "id": "8d52ce0c-e8ea-449e-94bd-9523db4a1a40",
    "outputId": "8c2b3f53-e665-4f37-e755-6f5f2ea14ba3"
   },
   "outputs": [
    {
     "data": {
      "text/plain": [
       "Index(['userId', 'productId', 'ratings', 'timestamp'], dtype='object')"
      ]
     },
     "execution_count": 73,
     "metadata": {},
     "output_type": "execute_result"
    }
   ],
   "source": [
    "df.columns"
   ]
  },
  {
   "cell_type": "code",
   "execution_count": 74,
   "id": "362b06a0-a673-49ee-be06-7d7e62c9aad8",
   "metadata": {
    "colab": {
     "base_uri": "https://localhost:8080/",
     "height": 206
    },
    "id": "362b06a0-a673-49ee-be06-7d7e62c9aad8",
    "outputId": "e57f820b-0815-426b-8773-a8477de50627"
   },
   "outputs": [
    {
     "data": {
      "text/html": [
       "<div>\n",
       "<style scoped>\n",
       "    .dataframe tbody tr th:only-of-type {\n",
       "        vertical-align: middle;\n",
       "    }\n",
       "\n",
       "    .dataframe tbody tr th {\n",
       "        vertical-align: top;\n",
       "    }\n",
       "\n",
       "    .dataframe thead th {\n",
       "        text-align: right;\n",
       "    }\n",
       "</style>\n",
       "<table border=\"1\" class=\"dataframe\">\n",
       "  <thead>\n",
       "    <tr style=\"text-align: right;\">\n",
       "      <th></th>\n",
       "      <th>userId</th>\n",
       "      <th>productId</th>\n",
       "      <th>ratings</th>\n",
       "    </tr>\n",
       "  </thead>\n",
       "  <tbody>\n",
       "    <tr>\n",
       "      <th>0</th>\n",
       "      <td>A2CX7LUOHB2NDG</td>\n",
       "      <td>0321732944</td>\n",
       "      <td>5.0</td>\n",
       "    </tr>\n",
       "    <tr>\n",
       "      <th>1</th>\n",
       "      <td>A2NWSAGRHCP8N5</td>\n",
       "      <td>0439886341</td>\n",
       "      <td>1.0</td>\n",
       "    </tr>\n",
       "    <tr>\n",
       "      <th>2</th>\n",
       "      <td>A2WNBOD3WNDNKT</td>\n",
       "      <td>0439886341</td>\n",
       "      <td>3.0</td>\n",
       "    </tr>\n",
       "    <tr>\n",
       "      <th>3</th>\n",
       "      <td>A1GI0U4ZRJA8WN</td>\n",
       "      <td>0439886341</td>\n",
       "      <td>1.0</td>\n",
       "    </tr>\n",
       "    <tr>\n",
       "      <th>4</th>\n",
       "      <td>A1QGNMC6O1VW39</td>\n",
       "      <td>0511189877</td>\n",
       "      <td>5.0</td>\n",
       "    </tr>\n",
       "  </tbody>\n",
       "</table>\n",
       "</div>"
      ],
      "text/plain": [
       "           userId   productId  ratings\n",
       "0  A2CX7LUOHB2NDG  0321732944      5.0\n",
       "1  A2NWSAGRHCP8N5  0439886341      1.0\n",
       "2  A2WNBOD3WNDNKT  0439886341      3.0\n",
       "3  A1GI0U4ZRJA8WN  0439886341      1.0\n",
       "4  A1QGNMC6O1VW39  0511189877      5.0"
      ]
     },
     "execution_count": 74,
     "metadata": {},
     "output_type": "execute_result"
    }
   ],
   "source": [
    "df=df.drop(columns={'timestamp'})\n",
    "df.head()"
   ]
  },
  {
   "cell_type": "code",
   "execution_count": 75,
   "id": "402bda94-1fe3-4327-a120-4cbf29b8ac94",
   "metadata": {
    "colab": {
     "base_uri": "https://localhost:8080/",
     "height": 53
    },
    "id": "402bda94-1fe3-4327-a120-4cbf29b8ac94",
    "outputId": "94f15524-805c-4645-d104-1fa7bc350d84"
   },
   "outputs": [
    {
     "data": {
      "text/html": [
       "<div>\n",
       "<style scoped>\n",
       "    .dataframe tbody tr th:only-of-type {\n",
       "        vertical-align: middle;\n",
       "    }\n",
       "\n",
       "    .dataframe tbody tr th {\n",
       "        vertical-align: top;\n",
       "    }\n",
       "\n",
       "    .dataframe thead th {\n",
       "        text-align: right;\n",
       "    }\n",
       "</style>\n",
       "<table border=\"1\" class=\"dataframe\">\n",
       "  <thead>\n",
       "    <tr style=\"text-align: right;\">\n",
       "      <th></th>\n",
       "      <th>userId</th>\n",
       "      <th>productId</th>\n",
       "      <th>ratings</th>\n",
       "    </tr>\n",
       "  </thead>\n",
       "  <tbody>\n",
       "  </tbody>\n",
       "</table>\n",
       "</div>"
      ],
      "text/plain": [
       "Empty DataFrame\n",
       "Columns: [userId, productId, ratings]\n",
       "Index: []"
      ]
     },
     "execution_count": 75,
     "metadata": {},
     "output_type": "execute_result"
    }
   ],
   "source": [
    "df[df.isnull().any(axis=1)]"
   ]
  },
  {
   "cell_type": "code",
   "execution_count": 76,
   "id": "12512650-4040-4740-a6ce-a29393f4f033",
   "metadata": {
    "colab": {
     "base_uri": "https://localhost:8080/"
    },
    "id": "12512650-4040-4740-a6ce-a29393f4f033",
    "outputId": "25c510ad-22ee-4565-e995-e7b56f4c8ab0"
   },
   "outputs": [
    {
     "data": {
      "text/plain": [
       "(Empty DataFrame\n",
       " Columns: [userId, productId, ratings]\n",
       " Index: [],\n",
       "            userId   productId  ratings\n",
       " 0  A2CX7LUOHB2NDG  0321732944      5.0\n",
       " 1  A2NWSAGRHCP8N5  0439886341      1.0\n",
       " 2  A2WNBOD3WNDNKT  0439886341      3.0\n",
       " 3  A1GI0U4ZRJA8WN  0439886341      1.0\n",
       " 4  A1QGNMC6O1VW39  0511189877      5.0)"
      ]
     },
     "execution_count": 76,
     "metadata": {},
     "output_type": "execute_result"
    }
   ],
   "source": [
    "df=df.dropna()\n",
    "df[df.isnull().any(axis=1)],df.head()"
   ]
  },
  {
   "cell_type": "code",
   "execution_count": 77,
   "id": "9a612442-4c02-435f-8208-60c157ced77e",
   "metadata": {
    "colab": {
     "base_uri": "https://localhost:8080/",
     "height": 206
    },
    "id": "9a612442-4c02-435f-8208-60c157ced77e",
    "outputId": "817de1bd-8560-4ed0-f5e1-009c67a1edc6"
   },
   "outputs": [
    {
     "data": {
      "text/html": [
       "<div>\n",
       "<style scoped>\n",
       "    .dataframe tbody tr th:only-of-type {\n",
       "        vertical-align: middle;\n",
       "    }\n",
       "\n",
       "    .dataframe tbody tr th {\n",
       "        vertical-align: top;\n",
       "    }\n",
       "\n",
       "    .dataframe thead th {\n",
       "        text-align: right;\n",
       "    }\n",
       "</style>\n",
       "<table border=\"1\" class=\"dataframe\">\n",
       "  <thead>\n",
       "    <tr style=\"text-align: right;\">\n",
       "      <th></th>\n",
       "      <th>userId</th>\n",
       "      <th>productId</th>\n",
       "      <th>ratings</th>\n",
       "    </tr>\n",
       "  </thead>\n",
       "  <tbody>\n",
       "    <tr>\n",
       "      <th>0</th>\n",
       "      <td>A2CX7LUOHB2NDG</td>\n",
       "      <td>0321732944</td>\n",
       "      <td>5.0</td>\n",
       "    </tr>\n",
       "    <tr>\n",
       "      <th>1</th>\n",
       "      <td>A2NWSAGRHCP8N5</td>\n",
       "      <td>0439886341</td>\n",
       "      <td>1.0</td>\n",
       "    </tr>\n",
       "    <tr>\n",
       "      <th>2</th>\n",
       "      <td>A2WNBOD3WNDNKT</td>\n",
       "      <td>0439886341</td>\n",
       "      <td>3.0</td>\n",
       "    </tr>\n",
       "    <tr>\n",
       "      <th>3</th>\n",
       "      <td>A1GI0U4ZRJA8WN</td>\n",
       "      <td>0439886341</td>\n",
       "      <td>1.0</td>\n",
       "    </tr>\n",
       "    <tr>\n",
       "      <th>4</th>\n",
       "      <td>A1QGNMC6O1VW39</td>\n",
       "      <td>0511189877</td>\n",
       "      <td>5.0</td>\n",
       "    </tr>\n",
       "  </tbody>\n",
       "</table>\n",
       "</div>"
      ],
      "text/plain": [
       "           userId   productId  ratings\n",
       "0  A2CX7LUOHB2NDG  0321732944      5.0\n",
       "1  A2NWSAGRHCP8N5  0439886341      1.0\n",
       "2  A2WNBOD3WNDNKT  0439886341      3.0\n",
       "3  A1GI0U4ZRJA8WN  0439886341      1.0\n",
       "4  A1QGNMC6O1VW39  0511189877      5.0"
      ]
     },
     "execution_count": 77,
     "metadata": {},
     "output_type": "execute_result"
    }
   ],
   "source": [
    "df.head()"
   ]
  },
  {
   "cell_type": "code",
   "execution_count": 78,
   "id": "31b9ad56-dffe-4563-9764-08da37a8281a",
   "metadata": {
    "colab": {
     "base_uri": "https://localhost:8080/",
     "height": 206
    },
    "id": "31b9ad56-dffe-4563-9764-08da37a8281a",
    "outputId": "4857c389-1605-4b10-d780-3d6262027954"
   },
   "outputs": [
    {
     "data": {
      "text/html": [
       "<div>\n",
       "<style scoped>\n",
       "    .dataframe tbody tr th:only-of-type {\n",
       "        vertical-align: middle;\n",
       "    }\n",
       "\n",
       "    .dataframe tbody tr th {\n",
       "        vertical-align: top;\n",
       "    }\n",
       "\n",
       "    .dataframe thead th {\n",
       "        text-align: right;\n",
       "    }\n",
       "</style>\n",
       "<table border=\"1\" class=\"dataframe\">\n",
       "  <thead>\n",
       "    <tr style=\"text-align: right;\">\n",
       "      <th></th>\n",
       "      <th>userId</th>\n",
       "      <th>productId</th>\n",
       "      <th>ratings</th>\n",
       "    </tr>\n",
       "  </thead>\n",
       "  <tbody>\n",
       "    <tr>\n",
       "      <th>0</th>\n",
       "      <td>A2CX7LUOHB2NDG</td>\n",
       "      <td>0321732944</td>\n",
       "      <td>5.0</td>\n",
       "    </tr>\n",
       "    <tr>\n",
       "      <th>1</th>\n",
       "      <td>A2NWSAGRHCP8N5</td>\n",
       "      <td>0439886341</td>\n",
       "      <td>1.0</td>\n",
       "    </tr>\n",
       "    <tr>\n",
       "      <th>2</th>\n",
       "      <td>A2WNBOD3WNDNKT</td>\n",
       "      <td>0439886341</td>\n",
       "      <td>3.0</td>\n",
       "    </tr>\n",
       "    <tr>\n",
       "      <th>3</th>\n",
       "      <td>A1GI0U4ZRJA8WN</td>\n",
       "      <td>0439886341</td>\n",
       "      <td>1.0</td>\n",
       "    </tr>\n",
       "    <tr>\n",
       "      <th>4</th>\n",
       "      <td>A1QGNMC6O1VW39</td>\n",
       "      <td>0511189877</td>\n",
       "      <td>5.0</td>\n",
       "    </tr>\n",
       "  </tbody>\n",
       "</table>\n",
       "</div>"
      ],
      "text/plain": [
       "           userId   productId  ratings\n",
       "0  A2CX7LUOHB2NDG  0321732944      5.0\n",
       "1  A2NWSAGRHCP8N5  0439886341      1.0\n",
       "2  A2WNBOD3WNDNKT  0439886341      3.0\n",
       "3  A1GI0U4ZRJA8WN  0439886341      1.0\n",
       "4  A1QGNMC6O1VW39  0511189877      5.0"
      ]
     },
     "execution_count": 78,
     "metadata": {},
     "output_type": "execute_result"
    }
   ],
   "source": [
    "dd = df.sort_values(by='productId')\n",
    "dd.reset_index(drop=True, inplace=True)\n",
    "dd.head()"
   ]
  },
  {
   "cell_type": "code",
   "execution_count": 79,
   "id": "3c5e5dab-07c8-4076-9147-6044dd6da7c8",
   "metadata": {
    "colab": {
     "base_uri": "https://localhost:8080/",
     "height": 206
    },
    "id": "3c5e5dab-07c8-4076-9147-6044dd6da7c8",
    "outputId": "d7a32eaa-5cf1-4f42-daa5-56809faf2551"
   },
   "outputs": [
    {
     "data": {
      "text/html": [
       "<div>\n",
       "<style scoped>\n",
       "    .dataframe tbody tr th:only-of-type {\n",
       "        vertical-align: middle;\n",
       "    }\n",
       "\n",
       "    .dataframe tbody tr th {\n",
       "        vertical-align: top;\n",
       "    }\n",
       "\n",
       "    .dataframe thead th {\n",
       "        text-align: right;\n",
       "    }\n",
       "</style>\n",
       "<table border=\"1\" class=\"dataframe\">\n",
       "  <thead>\n",
       "    <tr style=\"text-align: right;\">\n",
       "      <th></th>\n",
       "      <th>userId</th>\n",
       "      <th>productId</th>\n",
       "      <th>ratings</th>\n",
       "      <th>Count</th>\n",
       "    </tr>\n",
       "  </thead>\n",
       "  <tbody>\n",
       "    <tr>\n",
       "      <th>0</th>\n",
       "      <td>A2CX7LUOHB2NDG</td>\n",
       "      <td>0321732944</td>\n",
       "      <td>5.0</td>\n",
       "      <td>1</td>\n",
       "    </tr>\n",
       "    <tr>\n",
       "      <th>1</th>\n",
       "      <td>A2NWSAGRHCP8N5</td>\n",
       "      <td>0439886341</td>\n",
       "      <td>1.0</td>\n",
       "      <td>3</td>\n",
       "    </tr>\n",
       "    <tr>\n",
       "      <th>2</th>\n",
       "      <td>A2WNBOD3WNDNKT</td>\n",
       "      <td>0439886341</td>\n",
       "      <td>3.0</td>\n",
       "      <td>3</td>\n",
       "    </tr>\n",
       "    <tr>\n",
       "      <th>3</th>\n",
       "      <td>A1GI0U4ZRJA8WN</td>\n",
       "      <td>0439886341</td>\n",
       "      <td>1.0</td>\n",
       "      <td>3</td>\n",
       "    </tr>\n",
       "    <tr>\n",
       "      <th>4</th>\n",
       "      <td>A1QGNMC6O1VW39</td>\n",
       "      <td>0511189877</td>\n",
       "      <td>5.0</td>\n",
       "      <td>6</td>\n",
       "    </tr>\n",
       "  </tbody>\n",
       "</table>\n",
       "</div>"
      ],
      "text/plain": [
       "           userId   productId  ratings  Count\n",
       "0  A2CX7LUOHB2NDG  0321732944      5.0      1\n",
       "1  A2NWSAGRHCP8N5  0439886341      1.0      3\n",
       "2  A2WNBOD3WNDNKT  0439886341      3.0      3\n",
       "3  A1GI0U4ZRJA8WN  0439886341      1.0      3\n",
       "4  A1QGNMC6O1VW39  0511189877      5.0      6"
      ]
     },
     "execution_count": 79,
     "metadata": {},
     "output_type": "execute_result"
    }
   ],
   "source": [
    "dd['Count'] = dd.groupby('productId')['productId'].transform('count')\n",
    "dd.head()"
   ]
  },
  {
   "cell_type": "code",
   "execution_count": 80,
   "id": "fbd68917-e95f-43a6-933e-16610f292683",
   "metadata": {
    "colab": {
     "base_uri": "https://localhost:8080/"
    },
    "id": "fbd68917-e95f-43a6-933e-16610f292683",
    "outputId": "15766df8-af91-44df-927f-86c834dbebe7"
   },
   "outputs": [
    {
     "data": {
      "text/plain": [
       "(7824481, 4)"
      ]
     },
     "execution_count": 80,
     "metadata": {},
     "output_type": "execute_result"
    }
   ],
   "source": [
    "dd.shape"
   ]
  },
  {
   "cell_type": "code",
   "execution_count": 81,
   "id": "37c6bc57-3d07-447b-aa1f-8b9ca0b8d17d",
   "metadata": {
    "colab": {
     "base_uri": "https://localhost:8080/",
     "height": 206
    },
    "id": "37c6bc57-3d07-447b-aa1f-8b9ca0b8d17d",
    "outputId": "19348d09-8796-4bbd-820b-058503cf1e75"
   },
   "outputs": [
    {
     "data": {
      "text/html": [
       "<div>\n",
       "<style scoped>\n",
       "    .dataframe tbody tr th:only-of-type {\n",
       "        vertical-align: middle;\n",
       "    }\n",
       "\n",
       "    .dataframe tbody tr th {\n",
       "        vertical-align: top;\n",
       "    }\n",
       "\n",
       "    .dataframe thead th {\n",
       "        text-align: right;\n",
       "    }\n",
       "</style>\n",
       "<table border=\"1\" class=\"dataframe\">\n",
       "  <thead>\n",
       "    <tr style=\"text-align: right;\">\n",
       "      <th></th>\n",
       "      <th>userId</th>\n",
       "      <th>productId</th>\n",
       "      <th>ratings</th>\n",
       "      <th>Count</th>\n",
       "    </tr>\n",
       "  </thead>\n",
       "  <tbody>\n",
       "    <tr>\n",
       "      <th>182</th>\n",
       "      <td>AZFF4CX9MQ4AE</td>\n",
       "      <td>0972683275</td>\n",
       "      <td>5.0</td>\n",
       "      <td>1051</td>\n",
       "    </tr>\n",
       "    <tr>\n",
       "      <th>183</th>\n",
       "      <td>A39LNFWIZZT0VW</td>\n",
       "      <td>0972683275</td>\n",
       "      <td>5.0</td>\n",
       "      <td>1051</td>\n",
       "    </tr>\n",
       "    <tr>\n",
       "      <th>184</th>\n",
       "      <td>A16Y72DRF7ITNB</td>\n",
       "      <td>0972683275</td>\n",
       "      <td>3.0</td>\n",
       "      <td>1051</td>\n",
       "    </tr>\n",
       "    <tr>\n",
       "      <th>185</th>\n",
       "      <td>AU1I7HEEZJCSY</td>\n",
       "      <td>0972683275</td>\n",
       "      <td>5.0</td>\n",
       "      <td>1051</td>\n",
       "    </tr>\n",
       "    <tr>\n",
       "      <th>186</th>\n",
       "      <td>A6TWN9W9WSAV0</td>\n",
       "      <td>0972683275</td>\n",
       "      <td>4.0</td>\n",
       "      <td>1051</td>\n",
       "    </tr>\n",
       "  </tbody>\n",
       "</table>\n",
       "</div>"
      ],
      "text/plain": [
       "             userId   productId  ratings  Count\n",
       "182   AZFF4CX9MQ4AE  0972683275      5.0   1051\n",
       "183  A39LNFWIZZT0VW  0972683275      5.0   1051\n",
       "184  A16Y72DRF7ITNB  0972683275      3.0   1051\n",
       "185   AU1I7HEEZJCSY  0972683275      5.0   1051\n",
       "186   A6TWN9W9WSAV0  0972683275      4.0   1051"
      ]
     },
     "execution_count": 81,
     "metadata": {},
     "output_type": "execute_result"
    }
   ],
   "source": [
    "popularity_threshold = 1000\n",
    "dd= dd.query('Count >= @popularity_threshold')\n",
    "dd.head()"
   ]
  },
  {
   "cell_type": "code",
   "execution_count": 82,
   "id": "f92e3e99-8384-451a-8f38-541e67607179",
   "metadata": {
    "colab": {
     "base_uri": "https://localhost:8080/"
    },
    "id": "f92e3e99-8384-451a-8f38-541e67607179",
    "outputId": "6b83e065-cecf-46a4-9cfd-cb67555d5bee"
   },
   "outputs": [
    {
     "data": {
      "text/plain": [
       "(1379717, 4)"
      ]
     },
     "execution_count": 82,
     "metadata": {},
     "output_type": "execute_result"
    }
   ],
   "source": [
    "dd.shape"
   ]
  },
  {
   "cell_type": "code",
   "execution_count": 83,
   "id": "cb86e5d1-ee23-45c2-bd51-22941153335f",
   "metadata": {
    "colab": {
     "base_uri": "https://localhost:8080/",
     "height": 490
    },
    "id": "cb86e5d1-ee23-45c2-bd51-22941153335f",
    "outputId": "fd7b5ca8-9e79-429b-e6aa-9d7405fcef5e"
   },
   "outputs": [
    {
     "data": {
      "text/plain": [
       "productId\n",
       "B0074BW614    18244\n",
       "B00DR0PDNE    16454\n",
       "B007WTAJTO    14172\n",
       "B0019EHU8G    12285\n",
       "B006GWO5WK    12226\n",
       "              ...  \n",
       "B004XZHY34     1003\n",
       "B000067O5G     1003\n",
       "B000IF4788     1001\n",
       "B0007LJHVA     1000\n",
       "B00077AA5Q     1000\n",
       "Name: count, Length: 667, dtype: int64"
      ]
     },
     "execution_count": 83,
     "metadata": {},
     "output_type": "execute_result"
    }
   ],
   "source": [
    "dd['productId'].value_counts().sort_values(ascending=False)"
   ]
  },
  {
   "cell_type": "code",
   "execution_count": 84,
   "id": "9c1f643b-e455-4662-b258-37cb7b3d77ba",
   "metadata": {
    "id": "9c1f643b-e455-4662-b258-37cb7b3d77ba"
   },
   "outputs": [],
   "source": [
    "dd.columns\n",
    "dd = dd.drop('Count',axis=1)"
   ]
  },
  {
   "cell_type": "code",
   "execution_count": 85,
   "id": "a90c28fc-0f6e-4b39-b9a7-66ab8e42ce16",
   "metadata": {
    "colab": {
     "base_uri": "https://localhost:8080/",
     "height": 256
    },
    "id": "a90c28fc-0f6e-4b39-b9a7-66ab8e42ce16",
    "outputId": "ff2d48a4-0811-42be-b856-6ab1d12fb2c8"
   },
   "outputs": [
    {
     "data": {
      "text/html": [
       "<div>\n",
       "<style scoped>\n",
       "    .dataframe tbody tr th:only-of-type {\n",
       "        vertical-align: middle;\n",
       "    }\n",
       "\n",
       "    .dataframe tbody tr th {\n",
       "        vertical-align: top;\n",
       "    }\n",
       "\n",
       "    .dataframe thead th {\n",
       "        text-align: right;\n",
       "    }\n",
       "</style>\n",
       "<table border=\"1\" class=\"dataframe\">\n",
       "  <thead>\n",
       "    <tr style=\"text-align: right;\">\n",
       "      <th></th>\n",
       "      <th>userId</th>\n",
       "      <th>product0972683275</th>\n",
       "      <th>productB00001P4ZH</th>\n",
       "      <th>productB00001WRSJ</th>\n",
       "      <th>productB00004SABB</th>\n",
       "      <th>productB00004SB92</th>\n",
       "      <th>productB00004T8R2</th>\n",
       "      <th>productB00004ZCJE</th>\n",
       "      <th>productB00005ATMB</th>\n",
       "      <th>productB00005LEN4</th>\n",
       "      <th>...</th>\n",
       "      <th>productB000S5Q9CA</th>\n",
       "      <th>productB000SMVQK8</th>\n",
       "      <th>productB000TXZIDM</th>\n",
       "      <th>productB000U5TUWE</th>\n",
       "      <th>productB000UEZ36W</th>\n",
       "      <th>productB000UHQVOW</th>\n",
       "      <th>productB000V1MLBE</th>\n",
       "      <th>productB000V7AF8E</th>\n",
       "      <th>productB000VM60I8</th>\n",
       "      <th>productB000VX6XL6</th>\n",
       "    </tr>\n",
       "  </thead>\n",
       "  <tbody>\n",
       "    <tr>\n",
       "      <th>0</th>\n",
       "      <td>A000428226SAAAIBK8I36</td>\n",
       "      <td>NaN</td>\n",
       "      <td>NaN</td>\n",
       "      <td>NaN</td>\n",
       "      <td>NaN</td>\n",
       "      <td>NaN</td>\n",
       "      <td>NaN</td>\n",
       "      <td>NaN</td>\n",
       "      <td>NaN</td>\n",
       "      <td>NaN</td>\n",
       "      <td>...</td>\n",
       "      <td>NaN</td>\n",
       "      <td>NaN</td>\n",
       "      <td>NaN</td>\n",
       "      <td>NaN</td>\n",
       "      <td>NaN</td>\n",
       "      <td>NaN</td>\n",
       "      <td>NaN</td>\n",
       "      <td>NaN</td>\n",
       "      <td>NaN</td>\n",
       "      <td>NaN</td>\n",
       "    </tr>\n",
       "    <tr>\n",
       "      <th>1</th>\n",
       "      <td>A000681618A3WRMCK53V</td>\n",
       "      <td>NaN</td>\n",
       "      <td>NaN</td>\n",
       "      <td>NaN</td>\n",
       "      <td>NaN</td>\n",
       "      <td>NaN</td>\n",
       "      <td>NaN</td>\n",
       "      <td>NaN</td>\n",
       "      <td>NaN</td>\n",
       "      <td>NaN</td>\n",
       "      <td>...</td>\n",
       "      <td>NaN</td>\n",
       "      <td>NaN</td>\n",
       "      <td>NaN</td>\n",
       "      <td>NaN</td>\n",
       "      <td>NaN</td>\n",
       "      <td>NaN</td>\n",
       "      <td>NaN</td>\n",
       "      <td>NaN</td>\n",
       "      <td>NaN</td>\n",
       "      <td>NaN</td>\n",
       "    </tr>\n",
       "    <tr>\n",
       "      <th>2</th>\n",
       "      <td>A00177463W0XWB16A9O05</td>\n",
       "      <td>NaN</td>\n",
       "      <td>NaN</td>\n",
       "      <td>NaN</td>\n",
       "      <td>NaN</td>\n",
       "      <td>NaN</td>\n",
       "      <td>NaN</td>\n",
       "      <td>NaN</td>\n",
       "      <td>NaN</td>\n",
       "      <td>NaN</td>\n",
       "      <td>...</td>\n",
       "      <td>NaN</td>\n",
       "      <td>NaN</td>\n",
       "      <td>NaN</td>\n",
       "      <td>NaN</td>\n",
       "      <td>NaN</td>\n",
       "      <td>NaN</td>\n",
       "      <td>NaN</td>\n",
       "      <td>NaN</td>\n",
       "      <td>NaN</td>\n",
       "      <td>NaN</td>\n",
       "    </tr>\n",
       "    <tr>\n",
       "      <th>3</th>\n",
       "      <td>A0023922YYT81KP1CWU4</td>\n",
       "      <td>NaN</td>\n",
       "      <td>NaN</td>\n",
       "      <td>NaN</td>\n",
       "      <td>NaN</td>\n",
       "      <td>NaN</td>\n",
       "      <td>NaN</td>\n",
       "      <td>NaN</td>\n",
       "      <td>NaN</td>\n",
       "      <td>NaN</td>\n",
       "      <td>...</td>\n",
       "      <td>NaN</td>\n",
       "      <td>NaN</td>\n",
       "      <td>NaN</td>\n",
       "      <td>NaN</td>\n",
       "      <td>NaN</td>\n",
       "      <td>NaN</td>\n",
       "      <td>NaN</td>\n",
       "      <td>NaN</td>\n",
       "      <td>NaN</td>\n",
       "      <td>NaN</td>\n",
       "    </tr>\n",
       "    <tr>\n",
       "      <th>4</th>\n",
       "      <td>A00328401T70RFN4P1IT6</td>\n",
       "      <td>NaN</td>\n",
       "      <td>NaN</td>\n",
       "      <td>NaN</td>\n",
       "      <td>NaN</td>\n",
       "      <td>NaN</td>\n",
       "      <td>NaN</td>\n",
       "      <td>NaN</td>\n",
       "      <td>NaN</td>\n",
       "      <td>NaN</td>\n",
       "      <td>...</td>\n",
       "      <td>NaN</td>\n",
       "      <td>NaN</td>\n",
       "      <td>NaN</td>\n",
       "      <td>NaN</td>\n",
       "      <td>NaN</td>\n",
       "      <td>NaN</td>\n",
       "      <td>NaN</td>\n",
       "      <td>NaN</td>\n",
       "      <td>NaN</td>\n",
       "      <td>NaN</td>\n",
       "    </tr>\n",
       "  </tbody>\n",
       "</table>\n",
       "<p>5 rows × 110 columns</p>\n",
       "</div>"
      ],
      "text/plain": [
       "                  userId  product0972683275  productB00001P4ZH  \\\n",
       "0  A000428226SAAAIBK8I36                NaN                NaN   \n",
       "1   A000681618A3WRMCK53V                NaN                NaN   \n",
       "2  A00177463W0XWB16A9O05                NaN                NaN   \n",
       "3   A0023922YYT81KP1CWU4                NaN                NaN   \n",
       "4  A00328401T70RFN4P1IT6                NaN                NaN   \n",
       "\n",
       "   productB00001WRSJ  productB00004SABB  productB00004SB92  productB00004T8R2  \\\n",
       "0                NaN                NaN                NaN                NaN   \n",
       "1                NaN                NaN                NaN                NaN   \n",
       "2                NaN                NaN                NaN                NaN   \n",
       "3                NaN                NaN                NaN                NaN   \n",
       "4                NaN                NaN                NaN                NaN   \n",
       "\n",
       "   productB00004ZCJE  productB00005ATMB  productB00005LEN4  ...  \\\n",
       "0                NaN                NaN                NaN  ...   \n",
       "1                NaN                NaN                NaN  ...   \n",
       "2                NaN                NaN                NaN  ...   \n",
       "3                NaN                NaN                NaN  ...   \n",
       "4                NaN                NaN                NaN  ...   \n",
       "\n",
       "   productB000S5Q9CA  productB000SMVQK8  productB000TXZIDM  productB000U5TUWE  \\\n",
       "0                NaN                NaN                NaN                NaN   \n",
       "1                NaN                NaN                NaN                NaN   \n",
       "2                NaN                NaN                NaN                NaN   \n",
       "3                NaN                NaN                NaN                NaN   \n",
       "4                NaN                NaN                NaN                NaN   \n",
       "\n",
       "   productB000UEZ36W  productB000UHQVOW  productB000V1MLBE  productB000V7AF8E  \\\n",
       "0                NaN                NaN                NaN                NaN   \n",
       "1                NaN                NaN                NaN                NaN   \n",
       "2                NaN                NaN                NaN                NaN   \n",
       "3                NaN                NaN                NaN                NaN   \n",
       "4                NaN                NaN                NaN                NaN   \n",
       "\n",
       "   productB000VM60I8  productB000VX6XL6  \n",
       "0                NaN                NaN  \n",
       "1                NaN                NaN  \n",
       "2                NaN                NaN  \n",
       "3                NaN                NaN  \n",
       "4                NaN                NaN  \n",
       "\n",
       "[5 rows x 110 columns]"
      ]
     },
     "execution_count": 85,
     "metadata": {},
     "output_type": "execute_result"
    }
   ],
   "source": [
    "dd = pd.pivot_table(dd.head(200000), index='userId', columns='productId', values='ratings', aggfunc='mean')\n",
    "dd.columns = [f'product{col}' for col in dd.columns]\n",
    "dd = dd.reset_index()\n",
    "dd.head()"
   ]
  },
  {
   "cell_type": "code",
   "execution_count": 86,
   "id": "76557e91-05aa-45f8-be15-b45d2242a808",
   "metadata": {
    "colab": {
     "base_uri": "https://localhost:8080/"
    },
    "id": "76557e91-05aa-45f8-be15-b45d2242a808",
    "outputId": "908fce5a-a48d-426b-e3e0-7c29823757a8"
   },
   "outputs": [
    {
     "data": {
      "text/plain": [
       "(                  userId  product0972683275  productB00001P4ZH  \\\n",
       " 0  A000428226SAAAIBK8I36                0.0                0.0   \n",
       " 1   A000681618A3WRMCK53V                0.0                0.0   \n",
       " 2  A00177463W0XWB16A9O05                0.0                0.0   \n",
       " 3   A0023922YYT81KP1CWU4                0.0                0.0   \n",
       " 4  A00328401T70RFN4P1IT6                0.0                0.0   \n",
       " \n",
       "    productB00001WRSJ  productB00004SABB  productB00004SB92  productB00004T8R2  \\\n",
       " 0                0.0                0.0                0.0                0.0   \n",
       " 1                0.0                0.0                0.0                0.0   \n",
       " 2                0.0                0.0                0.0                0.0   \n",
       " 3                0.0                0.0                0.0                0.0   \n",
       " 4                0.0                0.0                0.0                0.0   \n",
       " \n",
       "    productB00004ZCJE  productB00005ATMB  productB00005LEN4  ...  \\\n",
       " 0                0.0                0.0                0.0  ...   \n",
       " 1                0.0                0.0                0.0  ...   \n",
       " 2                0.0                0.0                0.0  ...   \n",
       " 3                0.0                0.0                0.0  ...   \n",
       " 4                0.0                0.0                0.0  ...   \n",
       " \n",
       "    productB000S5Q9CA  productB000SMVQK8  productB000TXZIDM  productB000U5TUWE  \\\n",
       " 0                0.0                0.0                0.0                0.0   \n",
       " 1                0.0                0.0                0.0                0.0   \n",
       " 2                0.0                0.0                0.0                0.0   \n",
       " 3                0.0                0.0                0.0                0.0   \n",
       " 4                0.0                0.0                0.0                0.0   \n",
       " \n",
       "    productB000UEZ36W  productB000UHQVOW  productB000V1MLBE  productB000V7AF8E  \\\n",
       " 0                0.0                0.0                0.0                0.0   \n",
       " 1                0.0                0.0                0.0                0.0   \n",
       " 2                0.0                0.0                0.0                0.0   \n",
       " 3                0.0                0.0                0.0                0.0   \n",
       " 4                0.0                0.0                0.0                0.0   \n",
       " \n",
       "    productB000VM60I8  productB000VX6XL6  \n",
       " 0                0.0                0.0  \n",
       " 1                0.0                0.0  \n",
       " 2                0.0                0.0  \n",
       " 3                0.0                0.0  \n",
       " 4                0.0                0.0  \n",
       " \n",
       " [5 rows x 110 columns],\n",
       " (186459, 110))"
      ]
     },
     "execution_count": 86,
     "metadata": {},
     "output_type": "execute_result"
    }
   ],
   "source": [
    "dd=dd.fillna(0)\n",
    "dd.head(),dd.shape"
   ]
  },
  {
   "cell_type": "code",
   "execution_count": 87,
   "id": "199263df-0c62-4d5d-808d-cfe8eac1557d",
   "metadata": {
    "id": "199263df-0c62-4d5d-808d-cfe8eac1557d"
   },
   "outputs": [],
   "source": [
    "\n",
    "def matrix_factorization(R, P, Q, K, steps=5000, alpha=0.0001, beta=0.002,decay_rate=0.95):\n",
    "\n",
    "    Q = Q.T\n",
    "    for step in range(steps):\n",
    "        for i in range(len(R)):\n",
    "            for j in range(len(R[i])):\n",
    "                if R[i][j] > 0 and R[i][j]<=5:\n",
    "                    eij = R[i][j] - np.dot(P[i, :], Q[:, j])\n",
    "                    for k in range(K):\n",
    "                         P[i][k] = np.clip(P[i][k] + alpha * (2 * eij * Q[k][j] - beta * P[i][k]), -1e5, 1e5)\n",
    "                         Q[k][j] = np.clip(Q[k][j] + alpha * (2 * eij * P[i][k] - beta * Q[k][j]), -1e5, 1e5)\n",
    "\n",
    "\n",
    "        loss = 0\n",
    "        for i in range(len(R)):\n",
    "            for j in range(len(R[i])):\n",
    "                if R[i][j] > 0 and R[i][j]<=5:\n",
    "                    loss += (R[i][j] - np.dot(P[i, :], Q[:, j])) ** 2\n",
    "                    loss += beta * (np.sum(P[i, :] ** 2) + np.sum(Q[:, j] ** 2))\n",
    "\n",
    "      ##  alpha *= decay_rate\n",
    "        ##beta *= decay_rate\n",
    "\n",
    "        if loss < 0.001:\n",
    "            break\n",
    "\n",
    "    return P, Q.T"
   ]
  },
  {
   "cell_type": "code",
   "execution_count": 88,
   "id": "0b6d0767-de85-49f1-915f-c26f2ade5886",
   "metadata": {
    "id": "0b6d0767-de85-49f1-915f-c26f2ade5886"
   },
   "outputs": [],
   "source": [
    "matrix = dd.values[:1000, 1:100]\n",
    "##rank = np.linalg.matrix_rank(matrix.to_numpy(dtype='float64'))\n",
    "##rank"
   ]
  },
  {
   "cell_type": "code",
   "execution_count": 89,
   "id": "4d6068f4-a7d6-499e-ad2e-ff2246f5ff77",
   "metadata": {
    "colab": {
     "base_uri": "https://localhost:8080/"
    },
    "id": "4d6068f4-a7d6-499e-ad2e-ff2246f5ff77",
    "outputId": "aa32dbeb-a546-49fd-c66e-6774af2699d5"
   },
   "outputs": [
    {
     "name": "stdout",
     "output_type": "stream",
     "text": [
      "U [[0.95316181 0.54107724 0.60331978 0.59322815]\n",
      " [0.22218324 0.38742204 0.31759052 0.19009886]\n",
      " [0.55705687 0.29639246 0.39594373 0.36978447]\n",
      " ...\n",
      " [1.06512844 0.66458089 0.87128266 0.65421948]\n",
      " [0.30231656 0.28213928 0.2041376  0.26702269]\n",
      " [0.45137593 0.75208393 0.78520822 0.58248899]]\n",
      "v [[1.63781802 1.3602349  1.77299173 1.93642305]\n",
      " [2.01320663 1.99711464 2.14565838 2.37025766]\n",
      " [1.75491944 2.00566197 2.19902341 1.67015181]\n",
      " [1.58717732 1.72452936 0.9587386  1.84082422]\n",
      " [1.95088753 1.79424192 1.33483339 1.16642324]\n",
      " [1.71479257 1.87097389 1.75852025 1.58247196]\n",
      " [1.51358807 2.01659033 1.48307185 0.55845988]\n",
      " [1.74161965 1.86823075 1.57097724 1.15804832]\n",
      " [0.98571689 1.51135495 1.46325443 1.28831546]\n",
      " [1.38777975 1.40339654 0.91861154 1.56610703]\n",
      " [1.55173726 2.3644316  1.30606497 2.08055603]\n",
      " [1.51058496 1.39478039 1.51981857 1.62728387]\n",
      " [1.59135908 1.45637019 1.45187087 1.74090787]\n",
      " [1.16952586 0.83467123 1.63334794 1.77979571]\n",
      " [1.36682083 0.98332414 2.03559203 1.94978493]\n",
      " [2.11137848 1.16490041 1.01273964 0.53943721]\n",
      " [2.40038617 1.36769217 1.81705581 0.71339955]\n",
      " [1.92613838 1.27865015 1.57218629 1.1114612 ]\n",
      " [2.31697271 2.27244697 1.9636013  2.00647026]\n",
      " [1.38742729 1.88726079 1.74524854 1.75793343]\n",
      " [2.21267543 0.9908299  1.12549114 1.67649391]\n",
      " [1.25759127 1.3529304  1.05218076 1.55674706]\n",
      " [1.56305314 2.03415461 2.33182968 1.98489568]\n",
      " [2.00550824 2.10215237 1.54317732 1.83834017]\n",
      " [1.28449353 1.12589828 1.52645448 1.48074647]\n",
      " [1.28116914 1.88534165 1.53921303 1.06236276]\n",
      " [1.67653317 2.35414227 0.90085261 1.54927449]\n",
      " [1.4676761  1.78834569 1.94990006 1.63631286]\n",
      " [0.26717484 0.31234737 1.2092933  1.38567682]\n",
      " [1.85779138 1.24535996 1.75409091 1.98269366]\n",
      " [2.5248618  1.73302652 1.66627498 2.32761568]\n",
      " [1.85408295 1.44145238 1.27583789 1.89086177]\n",
      " [1.91456876 1.6305553  1.59296778 1.32003417]\n",
      " [1.87054555 1.881115   1.10610763 1.17495001]\n",
      " [2.18100006 1.43764507 2.11366254 0.95004724]\n",
      " [1.7165622  2.13172798 1.82785817 2.42821799]\n",
      " [2.2331205  3.06106256 1.14361324 2.98715201]\n",
      " [1.75326179 2.06854439 2.44916266 2.00810452]\n",
      " [1.49176598 2.15734577 2.02148087 1.08231885]\n",
      " [1.22551903 1.37333017 1.93236889 2.13155021]\n",
      " [1.54071089 2.02526493 1.86898392 1.47089089]\n",
      " [1.47871674 0.95480586 0.82310884 1.61526495]\n",
      " [1.73431686 1.49428083 1.68800623 0.72688008]\n",
      " [1.72357256 1.03683361 1.88103961 1.85075541]\n",
      " [1.91699283 1.33572116 1.8290415  1.53268114]\n",
      " [1.22133925 2.07338719 2.40445142 1.71310796]\n",
      " [2.02884167 2.05848714 1.75849958 0.6014484 ]\n",
      " [1.9531278  1.77556887 1.83733553 1.53759148]\n",
      " [2.10600626 1.93216359 1.29853119 2.0612898 ]\n",
      " [2.12369045 1.75134471 1.42314211 1.90169756]\n",
      " [2.21993517 1.81922735 2.27085823 2.53549981]\n",
      " [1.88528322 1.91844052 2.37145811 2.54655237]\n",
      " [2.87474604 1.8650367  1.77440584 2.82262909]\n",
      " [1.89892898 1.84386699 1.90110855 1.60314406]\n",
      " [1.87557554 1.43869201 1.25166351 1.99210563]\n",
      " [1.17920094 2.09974207 2.06059926 2.07633105]\n",
      " [2.09520947 2.40985787 2.18769862 1.67314382]\n",
      " [2.42737711 1.45926522 1.65654919 1.51756892]\n",
      " [1.37733131 1.89804343 1.60797687 2.20104506]\n",
      " [2.29285056 1.47521279 2.24410324 1.95350789]\n",
      " [1.38178348 1.23537593 1.30258103 1.17784565]\n",
      " [2.03737592 1.70936105 1.31699709 1.67633559]\n",
      " [1.55203161 1.82165291 1.92232039 2.07093171]\n",
      " [1.69057243 2.05158948 1.48340335 1.14312988]\n",
      " [1.63957433 1.06820849 1.71577605 2.31884179]\n",
      " [1.61464461 2.08450798 1.61435701 1.64805141]\n",
      " [1.21111855 0.89738022 1.65137419 0.88981502]\n",
      " [0.14242275 0.23141962 0.0973065  0.12470666]\n",
      " [2.01460336 1.56737416 1.37467452 1.91797   ]\n",
      " [1.88690664 1.67446011 1.30106727 1.68740995]\n",
      " [1.3813646  2.32175834 1.93414762 1.69474093]\n",
      " [2.14728581 1.55137962 1.21737029 2.23264525]\n",
      " [1.55387319 2.05491017 1.87292887 0.74366385]\n",
      " [1.56929054 1.07001827 2.25984868 1.57809121]\n",
      " [2.35404641 1.55138732 2.22119899 1.42822035]\n",
      " [2.26496221 1.98954072 1.83421149 2.26840334]\n",
      " [1.04374797 1.00929906 1.31369861 1.79306898]\n",
      " [2.13605656 1.84454903 1.35587914 1.15727857]\n",
      " [2.34150491 1.5924561  2.09452448 1.36328915]\n",
      " [1.83296056 2.10093261 2.49142967 1.69558556]\n",
      " [1.63560394 1.93393577 1.71443287 2.3537522 ]\n",
      " [1.08886147 2.27851892 1.91515939 1.47536538]\n",
      " [1.77727538 1.83931416 1.21939051 1.80487188]\n",
      " [2.07645835 1.41346643 1.05205416 1.70835932]\n",
      " [1.72985932 1.40944806 1.31072803 1.18509998]\n",
      " [2.68838985 2.01890586 2.21713115 1.97175275]\n",
      " [1.44989444 1.85028061 1.95601522 1.54497679]\n",
      " [1.35000623 2.43906352 1.28244425 2.06139143]\n",
      " [1.83324704 2.27511159 2.0845737  1.91671453]\n",
      " [1.60218815 2.21368845 2.14115963 2.18167123]\n",
      " [2.18901511 1.84598662 1.34199319 2.32422302]\n",
      " [1.77124613 1.5231269  1.83153688 1.73009125]\n",
      " [1.11200145 0.97598307 2.04467031 0.87973778]\n",
      " [1.58211852 2.1189529  1.33392067 1.94009794]\n",
      " [1.31256509 2.25037596 2.48729793 2.23982959]\n",
      " [1.89129238 2.73650718 2.27870833 1.88784069]\n",
      " [2.15870144 2.37581234 1.69492595 1.94843906]\n",
      " [2.19417122 1.66084712 2.32683536 1.8368456 ]\n",
      " [2.51415379 1.86016801 1.37264481 1.56749872]]\n"
     ]
    }
   ],
   "source": [
    "R = matrix\n",
    "N = R.shape[0]\n",
    "M = R.shape[1]\n",
    "K =4;##rank\n",
    "\n",
    "\n",
    "P = np.random.rand(N, K)*0.1\n",
    "Q = np.random.rand(M, K)*0.1\n",
    "\n",
    "U, V = matrix_factorization(R, P, Q, K)\n",
    "print(\"U\",U)\n",
    "print(\"v\",V)\n"
   ]
  },
  {
   "cell_type": "code",
   "execution_count": 90,
   "id": "50de4207-5a90-4f97-bb1c-d41b5d50822e",
   "metadata": {
    "colab": {
     "base_uri": "https://localhost:8080/"
    },
    "id": "50de4207-5a90-4f97-bb1c-d41b5d50822e",
    "outputId": "725a7e38-20df-4752-c54c-61c6d737de8f"
   },
   "outputs": [
    {
     "name": "stdout",
     "output_type": "stream",
     "text": [
      "Original matrix (R):\n",
      "[[0.0 0.0 0.0 ... 0.0 0.0 0.0]\n",
      " [0.0 0.0 0.0 ... 0.0 0.0 0.0]\n",
      " [0.0 0.0 0.0 ... 0.0 0.0 0.0]\n",
      " ...\n",
      " [0.0 0.0 0.0 ... 0.0 0.0 0.0]\n",
      " [0.0 0.0 0.0 ... 0.0 0.0 0.0]\n",
      " [0.0 0.0 0.0 ... 0.0 0.0 0.0]]\n",
      "\n",
      "Approximated matrix (R_approx):\n",
      "[[4.51551938 5.70012666 5.07543562 ... 5.52154101 5.4835411  5.16091808]\n",
      " [1.82207788 2.35305105 2.1828343  ... 2.30875782 2.21911997 2.01319163]\n",
      " [2.73358529 3.43944477 3.06033875 ... 3.29829015 3.31507357 3.07499321]\n",
      " ...\n",
      " [5.46009531 6.89171155 6.21075605 ... 6.62968017 6.66987292 6.13557865]\n",
      " [1.75791838 2.24301233 1.99128903 ... 2.18919674 2.09739855 1.98366294]\n",
      " [4.28239522 5.47614841 5.00009082 ... 5.22701023 5.13648508 4.52469369]]\n"
     ]
    }
   ],
   "source": [
    "R_approx = np.dot(U, V.T)\n",
    "\n",
    "print(\"Original matrix (R):\")\n",
    "print(R[:, :])\n",
    "print(\"\\nApproximated matrix (R_approx):\")\n",
    "print(R_approx[:, :])"
   ]
  },
  {
   "cell_type": "code",
   "execution_count": 91,
   "id": "HtX2vJebpp9o",
   "metadata": {
    "colab": {
     "base_uri": "https://localhost:8080/"
    },
    "id": "HtX2vJebpp9o",
    "outputId": "e58496e0-8a67-4caf-b7cb-5e4a3d3017fd"
   },
   "outputs": [
    {
     "data": {
      "text/plain": [
       "((1000, 99),\n",
       " (1000, 99),\n",
       " array([5.70012666, 5.07543562, 5.81299337, ..., 5.80067384, 5.22701023,\n",
       "        5.13648508]))"
      ]
     },
     "execution_count": 91,
     "metadata": {},
     "output_type": "execute_result"
    }
   ],
   "source": [
    "from sklearn.metrics.pairwise import cosine_similarity\n",
    "R.shape,R_approx.shape,R_approx[R_approx>5]"
   ]
  },
  {
   "cell_type": "code",
   "execution_count": 92,
   "id": "ACRueRhPxBd9",
   "metadata": {
    "colab": {
     "base_uri": "https://localhost:8080/"
    },
    "id": "ACRueRhPxBd9",
    "outputId": "7c31f227-546f-4fb1-c622-632e818ff939"
   },
   "outputs": [
    {
     "name": "stdout",
     "output_type": "stream",
     "text": [
      "Cosine Similarity:\n",
      " [[0.10749129 0.09955845 0.10727955 ... 0.10655148 0.1035317  0.09891   ]\n",
      " [0.09562898 0.10452443 0.09545937 ... 0.09767004 0.09653692 0.1019764 ]\n",
      " [0.10749129 0.09955845 0.10727955 ... 0.10655148 0.1035317  0.09891   ]\n",
      " ...\n",
      " [0.08885683 0.08475724 0.08882671 ... 0.08889008 0.08554584 0.08388818]\n",
      " [0.10869678 0.1048218  0.10801027 ... 0.10683169 0.1094713  0.10447231]\n",
      " [0.10211907 0.11224982 0.10294173 ... 0.10482836 0.10427443 0.1128874 ]]\n"
     ]
    }
   ],
   "source": [
    "similarity = cosine_similarity(R, R_approx)\n",
    "print(\"Cosine Similarity:\\n\", similarity)"
   ]
  },
  {
   "cell_type": "code",
   "execution_count": 93,
   "id": "rMcSDoKhyGSB",
   "metadata": {
    "colab": {
     "base_uri": "https://localhost:8080/"
    },
    "id": "rMcSDoKhyGSB",
    "outputId": "70a3ec67-67b7-4772-b944-8180d15156e3"
   },
   "outputs": [
    {
     "name": "stdout",
     "output_type": "stream",
     "text": [
      "Accuracy for difference 0.0 is : 0.00%\n",
      "Accuracy for difference 0.1 is : 93.49%\n",
      "Accuracy for difference 0.2 is : 95.38%\n",
      "Accuracy for difference 0.3 is : 96.85%\n",
      "Accuracy for difference 0.4 is : 98.00%\n",
      "Accuracy for difference 0.5 is : 98.84%\n",
      "Accuracy for difference 0.6 is : 99.16%\n",
      "Accuracy for difference 0.7 is : 99.26%\n",
      "Accuracy for difference 0.8 is : 99.37%\n",
      "Accuracy for difference 0.9 is : 99.58%\n",
      "Accuracy for difference 1.0 is : 99.89%\n"
     ]
    }
   ],
   "source": [
    "for i in np.arange(0, 1.1, 0.1):\n",
    "   mask = R != 0\n",
    "   accuracy = np.mean((abs(R - R_approx)<=i)[mask] )\n",
    "   print(f\"Accuracy for difference {i*1:.1f} is : {accuracy * 100:.2f}%\")"
   ]
  },
  {
   "cell_type": "code",
   "execution_count": 94,
   "id": "bUd84y3Sz-B4",
   "metadata": {
    "id": "bUd84y3Sz-B4"
   },
   "outputs": [
    {
     "name": "stdout",
     "output_type": "stream",
     "text": [
      "user_feature [[0.41158454 0.36736946 0.40240045 0.37394255]\n",
      " [0.15289104 0.11339283 0.14180057 0.14451868]\n",
      " [0.26184274 0.18238919 0.27266572 0.21550246]\n",
      " ...\n",
      " [0.02603143 0.05701456 0.0486474  0.04759118]\n",
      " [0.32918438 0.27048612 0.27589835 0.27946608]\n",
      " [0.09449576 0.02738022 0.09188913 0.02031796]]\n",
      "movie_feature [[2.45485526 3.06191626 2.7988588  4.24750163]\n",
      " [2.14391716 3.70411641 4.31111761 3.32621186]\n",
      " [3.4732944  3.18837149 4.21430874 3.79134962]\n",
      " [1.8907215  2.11438879 2.46208728 4.72007899]\n",
      " [3.46311505 3.18255642 3.27957262 3.31672838]\n",
      " [2.32620004 5.19406515 2.39295177 2.97684421]\n",
      " [4.82773018 3.71491247 1.85730775 3.31615141]\n",
      " [3.27625703 2.80967432 3.11976762 4.13586063]\n",
      " [3.95768571 3.59670678 3.47542512 3.32847221]\n",
      " [3.97510074 3.76601909 3.25802368 1.22437451]\n",
      " [3.52150126 4.08331648 2.46108626 3.7786046 ]\n",
      " [2.76445292 3.11351083 3.23770117 3.47565132]\n",
      " [2.84759401 3.62773363 4.55433784 1.96457099]\n",
      " [3.71386127 3.05646209 3.1743655  3.48474782]\n",
      " [2.77781994 3.26962592 2.46728362 3.97522757]\n",
      " [1.46940883 3.88041869 3.54145839 3.03267939]\n",
      " [3.3677546  4.0575879  3.92630102 2.58450407]\n",
      " [3.34334448 4.04166861 2.37954959 3.53128479]\n",
      " [2.66999781 3.43216962 3.64770147 4.51801633]\n",
      " [3.66129576 2.17447587 3.26972075 3.25669375]\n",
      " [2.10091538 3.32752711 3.74055688 4.39255073]\n",
      " [2.53140992 3.55737679 2.28072961 3.80533281]\n",
      " [3.16628608 3.20154095 3.55449064 3.84792411]\n",
      " [4.38149896 3.705737   3.90327677 2.58722996]\n",
      " [4.16700925 1.59221397 1.39596795 2.20845394]\n",
      " [2.61084216 3.45360015 4.19512633 2.27780736]\n",
      " [3.10852093 2.69731805 4.10454201 3.65311668]\n",
      " [2.52983591 3.11243881 4.28251563 3.23772864]\n",
      " [4.32727038 2.7816373  2.92896222 2.99908602]\n",
      " [3.40928384 3.21151676 4.27296328 2.39663171]\n",
      " [3.74341518 2.21339862 4.99167534 2.92326747]\n",
      " [3.39540423 3.74331622 3.25405663 2.77597104]\n",
      " [3.00451741 4.53225306 2.07216436 3.67500083]\n",
      " [3.07819278 2.56208801 3.02272692 3.01269385]\n",
      " [2.65214952 2.60009096 4.59019865 3.47710001]\n",
      " [4.37379284 3.51175948 3.13129351 4.10956496]\n",
      " [5.54900176 3.59137874 2.08857062 3.07985005]\n",
      " [4.09520876 3.28882656 3.00543811 3.69144656]\n",
      " [3.77996432 3.32039929 3.80906904 2.56976909]\n",
      " [3.85201491 3.20598228 3.39478027 3.23507115]\n",
      " [3.5690611  2.61000563 2.39734637 3.47572875]\n",
      " [3.21914983 2.72387146 3.68679967 3.3300356 ]\n",
      " [2.97190989 2.663581   4.22241981 3.06906744]\n",
      " [3.52222682 3.56950339 1.99599531 2.99626197]\n",
      " [3.26645898 3.32664889 3.46086484 2.70126569]\n",
      " [2.99738672 3.4054816  4.53828032 3.45646208]\n",
      " [2.15031692 3.40844577 2.57867025 4.31494283]\n",
      " [2.84309618 2.68819858 4.89769918 3.46660798]\n",
      " [3.61522819 2.26815134 4.01817772 3.06372512]\n",
      " [3.63037756 3.2880735  4.19999726 3.24382677]\n",
      " [3.90911129 3.58337366 4.14296587 3.45971089]\n",
      " [3.74712316 3.73402562 2.99448481 4.4310184 ]\n",
      " [2.09758134 3.57132235 4.02512635 4.44431233]\n",
      " [3.41753211 4.03329703 4.1657802  2.40976511]\n",
      " [3.5518788  2.51819443 3.1110037  2.83867644]\n",
      " [3.48849685 3.76146932 3.48469797 3.68377272]\n",
      " [3.27255734 3.74925911 3.66439758 3.50722479]\n",
      " [3.38267363 3.24129133 3.15555426 2.68364503]\n",
      " [4.13053373 2.68310385 3.6650544  2.9152398 ]\n",
      " [3.76368054 3.84696652 3.4760782  3.28550719]\n",
      " [2.78722328 2.86154142 2.3492349  4.26227823]\n",
      " [3.59517867 3.52702388 3.03031844 3.79605607]\n",
      " [2.80063603 2.63133473 2.88080268 3.37084201]\n",
      " [1.7798748  4.48591797 3.35229209 3.26963805]\n",
      " [3.64734164 3.40047615 3.50823509 3.54663508]\n",
      " [3.48094786 3.15565428 3.95871735 3.05071539]\n",
      " [3.50356282 2.85408158 3.57357849 2.92187543]\n",
      " [2.94804374 2.80344383 4.67143715 3.02761562]\n",
      " [4.06851413 2.84211621 2.78388712 3.71695893]\n",
      " [3.13015779 2.91239298 2.04063054 3.66327823]\n",
      " [3.58978543 3.47653228 2.79672507 2.32751728]\n",
      " [3.28694718 3.10424591 3.50108217 2.84848783]\n",
      " [3.3361344  3.26626976 3.59430814 3.90777493]\n",
      " [4.07570333 2.96517398 3.86287566 2.6523306 ]\n",
      " [3.80885703 3.25457481 4.19068523 3.45535783]\n",
      " [1.48993366 3.02471999 3.1981453  5.15672271]\n",
      " [2.71440329 2.91923295 3.95776903 3.57790249]\n",
      " [3.02723367 3.62105325 3.11888003 2.28088296]\n",
      " [4.13312941 3.95512902 1.95453927 3.91178528]\n",
      " [4.0382432  2.1248565  4.01520686 3.49182829]\n",
      " [2.7286582  3.5665025  3.51537185 3.74873652]\n",
      " [3.76968274 3.20497396 3.93466656 2.92165289]\n",
      " [3.45321851 4.07991821 3.61796479 2.87310002]\n",
      " [3.36810166 3.83567352 3.28899607 3.21121099]\n",
      " [2.2924112  3.13038366 3.54787156 3.91603536]\n",
      " [3.69955816 4.64063239 1.84971686 4.49690922]\n",
      " [2.70694585 3.80691665 3.82074318 3.56771654]\n",
      " [3.53920226 3.07234158 4.83970463 2.49347263]\n",
      " [4.83189604 2.7505167  3.79262911 2.36410751]\n",
      " [4.00313818 3.17173028 3.78576128 3.16624447]\n",
      " [3.16883531 3.14477099 2.98889663 4.40200076]\n",
      " [2.74244196 4.20339685 2.92878708 3.09511749]\n",
      " [2.78294243 3.74887909 3.31209691 2.59781943]\n",
      " [3.05100325 2.77279945 3.05205082 4.47278345]\n",
      " [2.55982906 3.87947343 2.67503493 4.41801907]\n",
      " [3.54296839 2.52698231 4.72739326 4.1374284 ]\n",
      " [1.97622604 4.29224665 2.69198914 3.20086412]\n",
      " [4.82972694 2.50317509 2.45995954 2.67769654]\n",
      " [3.95853879 3.42137125 3.18932433 2.69590924]\n",
      " [4.85839275 3.98910509 2.30893572 2.85490778]\n",
      " [3.71189127 3.86172811 3.65846283 3.84864541]\n",
      " [3.54314989 2.73325395 3.17404896 3.05322835]\n",
      " [2.98372487 3.45892957 4.18477016 3.1600426 ]\n",
      " [3.21780962 3.29636652 3.22724473 3.50523185]\n",
      " [3.7385741  3.09952639 3.47623621 3.0426425 ]\n",
      " [2.71241774 3.93585229 3.44598616 2.91685102]\n",
      " [3.77261381 3.44450627 3.82779408 2.51368128]\n",
      " [3.10747497 3.19479185 2.47576307 1.84475288]\n",
      " [2.77198736 4.3879476  3.2434085  3.99403655]]\n"
     ]
    }
   ],
   "source": [
    "import math\n",
    "testData=20000;\n",
    "testDataRow=math.floor(testData*0.8);\n",
    "testDataColumn=math.floor(dd.shape[1]*0.8);\n",
    "matrix = dd.head(testData).values[:, 1:]\n",
    "R = matrix[:,:testDataColumn]\n",
    "N = R.shape[0]\n",
    "M = R.shape[1]\n",
    "K =4;##rank\n",
    "\n",
    "\n",
    "P = np.random.rand(N, K)*0.1\n",
    "Q = np.random.rand(M, K)*0.1\n",
    "\n",
    "User_feature, vv = matrix_factorization(R, P, Q, K)\n",
    "R = matrix[0:testDataRow,:]\n",
    "N = R.shape[0]\n",
    "M = R.shape[1]\n",
    "K =4;##rank\n",
    "\n",
    "\n",
    "P = np.random.rand(N, K)*0.1\n",
    "Q = np.random.rand(M, K)*0.1\n",
    "\n",
    "uu, movie_feature = matrix_factorization(R, P, Q, K)\n",
    "print(\"user_feature\",User_feature)\n",
    "print(\"movie_feature\",movie_feature)"
   ]
  },
  {
   "cell_type": "code",
   "execution_count": 95,
   "id": "9c4BoB-uZXy_",
   "metadata": {
    "id": "9c4BoB-uZXy_"
   },
   "outputs": [
    {
     "data": {
      "text/plain": [
       "((20000, 4), (109, 4))"
      ]
     },
     "execution_count": 95,
     "metadata": {},
     "output_type": "execute_result"
    }
   ],
   "source": [
    "User_feature.shape,movie_feature.shape"
   ]
  },
  {
   "cell_type": "code",
   "execution_count": 96,
   "id": "korujCMfdCo5",
   "metadata": {
    "id": "korujCMfdCo5"
   },
   "outputs": [
    {
     "data": {
      "text/plain": [
       "(array([3.0, 4.0, 5.0, 5.0, 5.0, 5.0, 5.0, 4.0, 4.0, 4.0, 5.0, 4.0, 5.0,\n",
       "        5.0, 5.0, 5.0, 5.0, 5.0, 5.0, 5.0, 5.0, 5.0, 5.0, 5.0, 4.0, 5.0,\n",
       "        5.0, 2.0, 5.0, 5.0, 5.0, 3.0, 5.0, 1.0, 5.0, 5.0, 5.0, 4.0, 5.0,\n",
       "        4.0, 5.0, 5.0, 5.0, 5.0, 5.0, 4.0, 5.0, 5.0, 4.0, 5.0, 5.0, 1.0,\n",
       "        3.0, 5.0, 1.0, 5.0, 5.0, 5.0, 1.0, 5.0, 5.0, 5.0, 1.0, 5.0, 5.0,\n",
       "        5.0, 5.0, 5.0, 5.0, 5.0, 5.0, 1.0, 5.0, 5.0, 2.0, 5.0, 5.0, 4.0,\n",
       "        5.0, 5.0, 5.0, 5.0, 5.0, 4.0, 5.0, 5.0, 4.0, 3.0, 5.0, 4.0, 3.0,\n",
       "        3.0, 5.0, 5.0, 5.0, 2.0, 1.0, 5.0, 5.0, 5.0, 4.0, 5.0, 5.0, 5.0,\n",
       "        5.0, 5.0, 5.0, 4.0, 5.0, 5.0, 5.0, 5.0, 5.0, 1.0, 5.0, 5.0, 3.0,\n",
       "        4.0, 5.0, 1.0, 1.0, 5.0, 3.0, 5.0, 5.0, 5.0, 5.0, 5.0, 5.0, 4.0,\n",
       "        5.0, 4.0, 1.0, 5.0, 5.0, 5.0, 5.0, 5.0, 2.0, 5.0, 5.0, 5.0, 5.0,\n",
       "        4.0, 5.0, 5.0, 1.0, 5.0, 5.0, 5.0, 5.0, 5.0, 5.0, 5.0, 5.0, 5.0,\n",
       "        5.0, 5.0, 1.0, 5.0, 5.0, 5.0, 4.0, 1.0, 1.0, 1.0, 5.0, 5.0, 1.0,\n",
       "        5.0, 3.0, 5.0, 5.0, 5.0, 5.0, 5.0, 5.0, 5.0, 5.0, 5.0, 5.0, 5.0,\n",
       "        5.0, 4.0, 3.0, 5.0, 5.0, 5.0, 5.0, 5.0, 3.0, 5.0, 2.0, 5.0, 5.0,\n",
       "        5.0, 5.0, 5.0, 5.0, 5.0, 2.0, 5.0, 5.0, 5.0, 4.0, 5.0, 5.0, 5.0,\n",
       "        5.0, 4.0, 5.0, 4.0, 5.0, 5.0, 1.0, 5.0, 4.0, 4.0, 1.0, 5.0, 5.0,\n",
       "        5.0, 5.0, 5.0, 5.0, 5.0, 5.0, 1.0, 5.0, 4.0, 5.0, 5.0, 5.0, 5.0,\n",
       "        5.0, 5.0, 1.0, 5.0, 4.0, 5.0, 5.0, 5.0, 5.0, 4.0, 1.0, 5.0, 3.0,\n",
       "        1.0, 5.0, 5.0, 5.0, 5.0, 5.0, 5.0, 5.0, 5.0, 5.0, 1.0, 5.0, 5.0,\n",
       "        4.0, 5.0, 5.0, 4.0, 5.0, 4.0, 5.0, 5.0, 5.0, 5.0, 5.0, 4.0, 5.0,\n",
       "        5.0, 5.0, 5.0, 4.0, 5.0, 3.0, 5.0, 5.0, 5.0, 5.0, 5.0, 5.0, 5.0,\n",
       "        4.0, 5.0, 5.0, 5.0, 5.0, 5.0, 5.0, 5.0, 5.0, 5.0, 5.0, 2.0, 5.0,\n",
       "        5.0, 5.0, 5.0, 5.0, 4.0, 5.0, 5.0, 1.0, 5.0, 5.0, 5.0, 5.0, 2.0,\n",
       "        5.0, 4.0, 5.0, 5.0, 5.0, 5.0, 5.0, 5.0, 5.0, 5.0, 4.0, 4.0, 5.0,\n",
       "        4.0, 4.0, 5.0, 3.0, 5.0, 5.0, 1.0, 5.0, 1.0, 1.0, 5.0, 2.0, 5.0,\n",
       "        5.0, 5.0, 5.0, 5.0, 5.0, 3.0, 1.0, 5.0, 5.0, 5.0, 5.0, 5.0, 5.0,\n",
       "        5.0, 5.0, 4.0, 5.0, 4.0, 2.0, 5.0, 4.0, 5.0, 5.0, 5.0, 4.0, 5.0,\n",
       "        3.0, 5.0, 5.0, 4.0, 5.0, 5.0, 5.0, 3.0, 5.0, 5.0, 5.0, 5.0, 4.0,\n",
       "        5.0, 5.0, 5.0, 5.0, 5.0, 5.0, 5.0, 1.0, 1.0, 5.0, 4.0, 5.0, 5.0,\n",
       "        5.0, 5.0, 1.0, 4.0, 5.0, 1.0, 5.0, 1.0, 5.0, 4.0, 5.0, 5.0, 5.0,\n",
       "        5.0, 5.0, 2.0, 5.0, 4.0, 5.0, 5.0, 4.0, 5.0, 1.0, 5.0, 5.0, 5.0,\n",
       "        5.0, 5.0, 4.0, 5.0, 5.0, 5.0, 4.0, 5.0, 5.0, 4.0, 5.0, 5.0, 1.0,\n",
       "        5.0, 1.0, 5.0, 5.0, 4.0, 4.0, 4.0, 4.0, 2.0, 4.0, 1.0, 5.0, 5.0,\n",
       "        5.0, 5.0, 5.0, 5.0, 4.0, 5.0, 5.0, 5.0, 1.0, 1.0, 3.0, 5.0, 5.0,\n",
       "        5.0, 5.0, 5.0, 5.0, 1.0, 1.0, 5.0, 2.0, 5.0, 5.0, 5.0, 5.0, 5.0,\n",
       "        1.0, 5.0, 5.0, 4.0, 5.0, 5.0, 3.0, 4.0, 5.0, 5.0, 5.0, 3.0, 5.0,\n",
       "        4.0, 5.0, 5.0, 3.0, 5.0, 5.0, 5.0, 5.0, 5.0, 5.0, 5.0, 5.0, 5.0,\n",
       "        5.0, 5.0, 5.0, 3.0, 5.0, 5.0, 2.0, 5.0, 5.0, 5.0, 1.0, 5.0, 4.0,\n",
       "        4.0, 5.0, 5.0, 5.0, 5.0, 5.0, 5.0, 5.0, 5.0, 5.0, 5.0, 5.0, 1.0,\n",
       "        1.0, 4.0, 5.0, 5.0, 5.0, 5.0, 5.0, 4.0, 5.0, 1.0, 5.0, 5.0, 5.0,\n",
       "        3.0, 4.0, 5.0, 5.0, 5.0, 4.0, 5.0, 5.0, 5.0, 1.0, 4.0, 4.0, 1.0,\n",
       "        4.0, 1.0, 5.0, 5.0, 5.0, 4.0, 5.0, 5.0, 5.0, 5.0, 5.0, 5.0, 5.0,\n",
       "        3.0, 5.0, 2.0, 5.0, 5.0, 3.0, 5.0, 5.0, 5.0, 5.0, 2.0, 5.0, 5.0,\n",
       "        5.0, 4.0, 5.0, 4.0, 5.0, 4.0, 1.0, 4.0, 5.0, 3.0, 5.0, 5.0, 1.0,\n",
       "        5.0, 4.0, 2.0, 5.0, 5.0, 1.0, 5.0, 4.0, 5.0, 4.0, 2.0, 5.0, 4.0,\n",
       "        5.0, 5.0, 5.0, 5.0, 5.0, 5.0, 5.0, 5.0, 5.0, 5.0, 5.0, 5.0, 5.0,\n",
       "        4.0, 5.0, 5.0, 5.0, 5.0, 5.0, 5.0, 5.0, 1.0, 5.0, 5.0, 1.0, 5.0,\n",
       "        5.0, 5.0, 5.0, 3.0, 5.0, 5.0, 4.0, 4.0, 5.0, 5.0, 5.0, 5.0, 1.0,\n",
       "        5.0, 5.0, 5.0, 4.0, 4.0, 4.0, 1.0, 4.0, 4.0, 5.0, 5.0, 5.0, 5.0,\n",
       "        5.0, 5.0, 1.0, 4.0, 5.0, 5.0, 5.0, 1.0, 5.0, 4.0, 5.0, 5.0, 5.0,\n",
       "        5.0, 4.0, 5.0, 5.0, 5.0, 5.0, 5.0, 4.0, 5.0, 5.0, 5.0, 5.0, 5.0,\n",
       "        3.0, 5.0, 4.0, 5.0, 5.0, 5.0, 5.0, 5.0, 5.0, 5.0, 5.0, 5.0, 5.0,\n",
       "        4.0, 1.0, 2.0, 4.0, 5.0, 5.0, 3.0, 1.0, 1.0, 5.0, 4.0, 5.0, 5.0,\n",
       "        1.0, 5.0, 1.0, 1.0, 5.0, 4.0, 5.0, 5.0, 4.0, 3.0, 5.0, 4.0, 5.0,\n",
       "        5.0, 5.0, 5.0, 5.0, 5.0, 3.0, 4.0, 5.0, 4.0, 4.0, 5.0, 5.0, 5.0,\n",
       "        5.0, 2.0, 3.0, 3.0, 5.0, 4.0, 3.0, 5.0, 5.0, 5.0, 5.0, 5.0, 5.0,\n",
       "        5.0, 1.0, 1.0, 1.0, 4.0, 5.0, 5.0, 5.0, 5.0, 1.0, 1.0, 5.0, 4.0,\n",
       "        3.0, 3.0, 5.0, 5.0, 5.0, 3.0, 5.0, 5.0, 4.0, 5.0, 4.0, 3.0, 4.0,\n",
       "        4.0, 5.0, 5.0, 5.0, 5.0, 5.0, 4.0, 5.0, 3.0, 5.0, 1.0, 5.0, 5.0,\n",
       "        5.0, 3.0, 3.0, 5.0, 5.0, 4.0, 4.0, 4.0, 5.0, 4.0, 4.0, 5.0, 5.0,\n",
       "        2.0, 5.0, 5.0, 4.0, 5.0, 5.0, 5.0, 1.0, 5.0, 4.0, 5.0, 5.0, 5.0,\n",
       "        4.0, 5.0, 5.0, 1.0, 1.0, 5.0, 4.0, 5.0, 3.0, 1.0, 5.0, 5.0, 5.0,\n",
       "        5.0, 2.0, 5.0, 5.0, 1.0, 5.0, 3.0, 4.0, 1.0, 1.0, 4.0, 4.0, 1.0,\n",
       "        5.0, 5.0, 5.0, 1.0, 5.0, 4.0, 4.0, 5.0, 5.0, 5.0], dtype=object),\n",
       " (4000, 21))"
      ]
     },
     "execution_count": 96,
     "metadata": {},
     "output_type": "execute_result"
    }
   ],
   "source": [
    "matrix_test=matrix[testDataRow:testData,testDataColumn:]\n",
    "matrix_test[matrix_test != 0],matrix_test.shape"
   ]
  },
  {
   "cell_type": "code",
   "execution_count": 97,
   "id": "b171c3ca-2544-4800-b51c-9e734d8a097d",
   "metadata": {},
   "outputs": [
    {
     "data": {
      "text/plain": [
       "(array([5.0, 2.0, 3.0, ..., 5.0, 5.0, 5.0], dtype=object),\n",
       " array([4.85633312, 1.86593992, 2.91564864, ..., 4.69142629, 4.66305922,\n",
       "        4.610055  ]))"
      ]
     },
     "execution_count": 97,
     "metadata": {},
     "output_type": "execute_result"
    }
   ],
   "source": [
    "testDataRow,testDataColumn,matrix.shape\n",
    "matrix[:testDataRow,:testDataColumn][matrix[:testDataRow,:testDataColumn] != 0],np.dot(User_feature,movie_feature.T)[:testDataRow,:testDataColumn][matrix[:testDataRow,:testDataColumn] != 0]"
   ]
  },
  {
   "cell_type": "code",
   "execution_count": 98,
   "id": "WgnkEuVU2h3B",
   "metadata": {
    "id": "WgnkEuVU2h3B"
   },
   "outputs": [
    {
     "data": {
      "text/plain": [
       "(array([0.53462912, 0.63469466, 0.65054427, 0.5483736 , 0.76984305,\n",
       "        0.59550002, 0.46234631, 0.75536436, 0.79063475, 0.34829922,\n",
       "        0.94525391, 0.37031708, 0.98491925, 0.64731434, 1.01739185,\n",
       "        0.47668026, 0.67926242, 5.1517634 , 0.72256034, 0.94045876,\n",
       "        0.58864616, 0.67132715, 3.91502177, 0.59546368, 0.86154914,\n",
       "        0.9048666 , 0.88784683, 0.45366984, 0.94259621, 0.61458321,\n",
       "        4.55404478, 0.99372071, 0.82172971, 0.76192445, 0.73936422,\n",
       "        0.78373881, 0.95931954, 0.83564055, 0.57667929, 0.35002288,\n",
       "        0.87504336, 1.0451332 , 4.81373274, 0.67197767, 0.43765624,\n",
       "        0.2909849 , 0.73718383, 0.84629351, 0.75178825, 0.89273893,\n",
       "        0.66474955, 0.64599634, 0.65723047, 0.88968853, 4.88262417,\n",
       "        0.81606178, 0.75992212, 0.43491071, 0.67027846, 0.53118167,\n",
       "        5.03213308, 4.19665161, 0.58180893, 0.59981477, 0.43467847,\n",
       "        0.48820765, 0.45388003, 5.12319638, 0.44881961, 0.76739428,\n",
       "        0.41984714, 4.19411953, 0.9190256 , 0.31371169, 0.69428753,\n",
       "        0.47318136, 4.35522585, 0.61738725, 0.88964281, 1.15382789,\n",
       "        0.68135929, 0.77076314, 0.39761094, 0.89171649, 0.4009532 ,\n",
       "        1.23155884, 0.98423419, 0.7995859 , 0.79208601, 0.6731805 ,\n",
       "        0.58545356, 4.40177514, 0.87280194, 0.61472967, 4.00670493,\n",
       "        0.72502964, 0.78529614, 0.38536298, 0.76197714, 0.63016008,\n",
       "        0.79057143, 1.01333002, 0.57486508, 0.4790601 , 0.32063706,\n",
       "        0.81028531, 0.51731965, 0.80920389, 0.85168643, 2.81016289,\n",
       "        0.32355233, 0.89882428, 0.72500019, 0.63711021, 0.68996232,\n",
       "        0.83076306, 0.42447364, 0.49525136, 0.90178199, 0.83339452,\n",
       "        0.78258617, 4.47011797, 3.70245153, 3.14452845, 0.56128598,\n",
       "        0.96133775, 0.96711607, 0.65249778, 0.51400361, 0.35506658,\n",
       "        0.67487606, 0.73645765, 0.48085526, 0.75245613, 2.91084855,\n",
       "        0.89265038, 0.55600698, 4.91580706, 0.221696  , 0.7695358 ,\n",
       "        0.25266033, 0.57055359, 0.50443587, 0.63077349, 0.76138932,\n",
       "        0.49563041, 0.71754259, 0.63978885, 0.52616032, 0.83212166,\n",
       "        0.7316112 , 0.65517051, 0.69024014, 1.11977699, 0.74676132,\n",
       "        0.64024779, 0.52257476, 0.58017829, 1.01129123, 1.1629116 ,\n",
       "        0.33537131, 0.68028046, 0.80481193, 0.69706487, 0.82877737,\n",
       "        0.63395738, 0.64898308, 0.71617566, 0.78799072, 0.82522322,\n",
       "        0.42624541, 1.18234642, 1.11045677, 0.41769564, 0.94808769,\n",
       "        0.54155946, 0.48186188, 0.87937792, 0.83966667, 4.65047111,\n",
       "        0.39887756, 0.64863497, 0.75761383, 0.71993185, 0.19820572,\n",
       "        0.37812136, 0.55855319, 0.92398312, 0.73510363, 1.02950386,\n",
       "        0.64570182, 0.63866358, 0.84926704, 3.40231129, 0.45767556,\n",
       "        0.56450811, 4.35600807, 0.67699699, 0.70339437, 0.66146678,\n",
       "        0.59854441, 4.44141908, 4.26310871, 0.34779554, 0.56808514,\n",
       "        0.84361805, 0.85169996, 0.42891279, 4.57042044, 0.55354987,\n",
       "        0.60398355, 0.63761152, 0.80266733, 2.97914055, 0.49687505,\n",
       "        0.61112602, 0.76302769, 0.63440007, 0.67923467, 4.56705205,\n",
       "        0.96011691, 0.66796176, 0.66158749, 0.71429094, 1.15068963,\n",
       "        0.79334963, 0.26887242, 0.50878519, 1.05907569, 0.69446981,\n",
       "        0.48817838, 0.54149208, 2.69781057, 0.81077638, 0.82326373,\n",
       "        0.9078332 , 0.3162613 , 0.64590214, 0.74746643, 0.84483308,\n",
       "        3.25861739, 0.8674906 , 0.63300036, 0.64381854, 0.59184524,\n",
       "        0.5041449 , 0.79443601, 0.83070226, 4.02127434, 0.95525043,\n",
       "        0.56240759, 0.43221284, 0.56075708, 0.40992088, 0.65109215,\n",
       "        0.4827543 , 0.82405621, 1.18189335, 0.70516072, 0.3937578 ,\n",
       "        0.94666963, 5.20486226, 0.53266016, 0.75679546, 0.50850806,\n",
       "        0.58547413, 1.0548374 , 1.02657748, 0.86230135, 4.29185479,\n",
       "        0.78194635, 0.74693447, 0.69405382, 0.29802553, 0.42701652,\n",
       "        6.33794228, 0.75448262, 0.24716888, 0.52839954, 0.49181087,\n",
       "        0.63880869, 0.56282379, 1.09001376, 0.66191432, 0.53826702,\n",
       "        0.75727233, 0.92639054, 0.60229196, 0.25323571, 0.77856361,\n",
       "        0.77505094, 4.86994289, 0.72395214, 0.50012076, 0.19846427,\n",
       "        0.63925552, 0.37713359, 0.70326662, 0.75330659, 0.79774088,\n",
       "        1.21297051, 0.98908493, 0.4607012 , 0.66717124, 0.3970754 ,\n",
       "        0.80544434, 0.45917839, 3.34834494, 0.6108933 , 1.20702545,\n",
       "        0.63537796, 1.02086707, 0.72118307, 0.62209389, 0.70254354,\n",
       "        0.40511126, 0.65628901, 0.8858866 , 0.97343316, 0.70812569,\n",
       "        0.43430521, 5.26660942, 0.74356908, 0.85881623, 0.89298588,\n",
       "        0.32017862, 0.8912868 , 0.14382623, 0.11402671, 0.65054375,\n",
       "        0.96662331, 0.83200654, 0.67317158, 0.7700651 , 0.75399911,\n",
       "        0.6608891 , 0.69309839, 0.42373847, 0.54226574, 1.11803829,\n",
       "        4.3284197 , 0.58328133, 0.46664583, 0.92320443, 0.76897686,\n",
       "        0.78505618, 0.94951444, 0.72781231, 0.61570571, 0.66586467,\n",
       "        0.77052158, 0.59265197, 0.81291384, 0.57952863, 0.65594104,\n",
       "        1.00820378, 0.54401954, 4.12915862, 0.71493869, 0.80451752,\n",
       "        0.55769647, 0.37911864, 0.73688789, 0.80699746, 0.78208578,\n",
       "        0.82710676, 0.50214022, 0.71365887, 2.839463  , 0.75244283,\n",
       "        0.64060534, 5.52078828, 4.10220742, 0.50937055, 0.63496259,\n",
       "        0.30369508, 0.53028844, 0.73600397, 0.78756159, 0.43580253,\n",
       "        0.60123069, 0.32011877, 0.85696135, 0.52051141, 0.77455431,\n",
       "        0.29952131, 0.65859092, 0.67654235, 0.89639637, 0.30143058,\n",
       "        0.60911771, 0.81183109, 0.2583617 , 0.69312357, 0.78908056,\n",
       "        0.83848933, 0.66987822, 0.52132294, 0.60149424, 0.53582073,\n",
       "        0.93394119, 0.87911085, 0.78307734, 0.69754335, 0.74294927,\n",
       "        0.7050375 , 0.75418675, 0.83737152, 0.36100542, 0.36029575,\n",
       "        0.59730134, 0.81405297, 0.99357356, 0.95149728, 0.68234659,\n",
       "        0.83450725, 0.86927226, 0.6446263 , 0.41964206, 0.53482288,\n",
       "        0.38656925, 0.80770425, 0.62561754, 0.81057502, 0.70059977,\n",
       "        3.34779223, 4.17177105, 1.02371131, 0.35030191, 0.82745471,\n",
       "        0.56758341, 0.35627091, 0.47322218, 0.69939689, 0.7266182 ,\n",
       "        0.60185747, 0.55530307, 3.40251695, 0.70893321, 0.78771396,\n",
       "        0.52588643, 0.59472585, 0.71310587, 0.80642244, 0.87672206,\n",
       "        0.2221792 , 0.39581673, 4.59452217, 0.62000513, 4.26672782,\n",
       "        0.78751025, 0.70791729, 0.58524514, 0.6257771 , 0.86504249,\n",
       "        0.77981158, 0.89742623, 0.81132668, 0.66678398, 0.39211051,\n",
       "        0.2596979 , 0.90813559, 0.52572009, 0.86079875, 0.4710382 ,\n",
       "        0.72539277, 0.4205033 , 0.54512852, 0.82639485, 3.90511695,\n",
       "        0.96939955, 0.55375455, 0.49821578, 0.97292209, 0.6901296 ,\n",
       "        0.58160197, 0.94337842, 0.75616748, 0.79452867, 0.41074991,\n",
       "        0.78713053, 0.37429043, 0.79759565, 0.71494967, 4.55962074,\n",
       "        0.60853211, 0.74812788, 0.32166593, 0.3917555 , 0.88836774,\n",
       "        0.60556286, 0.60602319, 0.52307403, 0.86661301, 0.45237374,\n",
       "        0.45656934, 0.83014995, 0.74219369, 0.90530015, 0.916567  ,\n",
       "        0.71383331, 0.77852771, 0.71262155, 0.60376561, 0.96085779,\n",
       "        0.89734951, 0.35799571, 4.48738728, 0.66144024, 0.75334449,\n",
       "        0.86493502, 0.43562459, 0.78944983, 0.79520733, 0.82047102,\n",
       "        1.09983651, 0.68639947, 0.72916694, 0.96347888, 0.42742378,\n",
       "        0.27226107, 3.82602056, 0.88819818, 0.90473634, 0.65749072,\n",
       "        0.54457267, 0.56065155, 0.99868845, 1.00922786, 0.42965965,\n",
       "        0.3672314 , 0.48821061, 0.70999833, 0.57064173, 0.96276532,\n",
       "        0.55574556, 0.33281368, 0.49308047, 0.63944707, 4.79075105,\n",
       "        0.81971632, 0.59366219, 0.5753168 , 0.72731515, 0.88242361,\n",
       "        0.42370642, 4.39290977, 4.28082304, 1.00535281, 0.79087978,\n",
       "        0.59145701, 4.44496751, 0.34484079, 0.79478744, 0.47474341,\n",
       "        0.47394828, 2.81598924, 0.9921117 , 0.79669942, 0.47278668,\n",
       "        1.10383213, 0.69807944, 0.54427038, 0.64683663, 0.58970634,\n",
       "        0.4328204 , 1.017741  , 3.71999128, 0.71356059, 0.76103174,\n",
       "        0.49746339, 0.74359749, 0.49980637, 0.46286889, 0.54467931,\n",
       "        0.68449024, 0.52547945, 0.62408957, 1.00411046, 0.36072115,\n",
       "        0.44589662, 3.78310566, 0.50757499, 0.37475791, 0.47141057,\n",
       "        0.74446416, 4.35794798, 0.82282201, 0.76034596, 0.27339756,\n",
       "        0.93363868, 1.06346803, 0.6755037 , 0.80735946, 0.50042714,\n",
       "        4.43444683, 0.71957893, 0.61612675, 0.6750126 , 0.41308636,\n",
       "        4.81566722, 0.83293295, 0.9522547 , 0.54300766, 0.37435321,\n",
       "        0.83130766, 0.63623361, 0.86977219, 0.70593042, 0.6945266 ,\n",
       "        0.55757146, 0.81413452, 0.56779206, 0.69797636, 1.13303852,\n",
       "        0.71972849, 0.72250369, 0.63520844, 0.70780558, 0.79061238,\n",
       "        0.84338998, 0.18907486, 0.78045891, 0.36173969, 4.50373738,\n",
       "        0.70688901, 0.7536823 , 0.59606106, 3.22175164, 0.53774334,\n",
       "        0.85007826, 0.49550866, 0.83472231, 0.76399465, 0.84873697,\n",
       "        0.73176843, 0.46075586, 0.68793355, 0.55751647, 0.97308497,\n",
       "        0.66677496, 0.64362583, 0.59665729, 0.88891454, 0.71134788,\n",
       "        0.72575416, 0.5882906 , 0.84312456, 0.26090868, 0.54628248,\n",
       "        0.63439226, 0.59408292, 0.85582279, 4.17241249, 0.57615158,\n",
       "        0.65039289, 0.66331608, 3.3529216 , 4.35078539, 4.322009  ,\n",
       "        5.20413113, 0.2957984 , 0.94237756, 0.57416967, 0.79532995,\n",
       "        3.03452367, 0.33367802, 0.27709577, 4.91626519, 0.68933401,\n",
       "        0.5849399 , 0.79411992, 0.60303974, 0.71538542, 0.48318758,\n",
       "        0.26868783, 0.88131351, 3.81739651, 0.88617445, 0.62311443,\n",
       "        0.79233055, 3.61534114, 4.14566586, 1.04524178, 0.41328316,\n",
       "        3.29883604, 0.98162762, 0.71318949, 0.60081747, 4.54425983,\n",
       "        4.72373667, 4.25803454, 0.67324068, 0.3215952 , 0.57139645,\n",
       "        0.72377517, 0.7004603 , 0.36906736, 0.53333186, 0.60976915,\n",
       "        0.77948852, 0.23787156, 0.55650613, 0.63678361, 0.59662313,\n",
       "        0.40257355, 0.84588444, 0.5736479 , 0.50662763, 0.87688678,\n",
       "        0.72038602, 0.57931214, 0.61466933, 0.49215213, 0.46822912,\n",
       "        0.56485175, 0.74546255, 1.03201215, 0.4225775 , 1.07793496,\n",
       "        0.40562436, 0.94214861, 0.64928175, 0.64840443, 0.66551493,\n",
       "        0.67287855, 0.48141356, 5.02517012, 0.83126669, 0.33412141,\n",
       "        0.46913367, 0.2209981 , 0.31142214, 0.84260191, 3.51611659,\n",
       "        0.48381322, 0.78907114, 0.89919439, 0.85108592, 1.03070223,\n",
       "        0.29248645, 0.54875007, 0.80682036, 0.99704028, 0.94916454,\n",
       "        0.71555468, 0.62621865, 4.84717346, 0.64535093, 1.02994163,\n",
       "        1.17120334, 0.9541469 , 0.85167043, 0.87441564, 0.61959853,\n",
       "        0.84580931, 0.54557671, 0.8868908 , 0.50702837, 0.71861542,\n",
       "        0.52728129, 0.72005831, 0.77341298, 0.73289656, 0.60750034,\n",
       "        0.74948382, 0.86447508, 0.65070762, 0.66617725, 0.4783227 ,\n",
       "        4.49413616, 0.57542992, 0.86063548, 0.42650038, 0.77001844,\n",
       "        0.82460209, 0.62979589, 0.64989194, 1.03525648, 0.79792668,\n",
       "        0.3839396 , 0.44673236, 0.68933706, 0.67822321, 0.51326287,\n",
       "        0.71994007, 0.69032098, 0.90867757, 0.63892533, 1.02345221,\n",
       "        0.59361236, 0.66541638, 0.79204697, 0.40141687, 0.57383598,\n",
       "        0.93194521, 3.99475657, 0.86311962, 0.8534772 , 0.61772283,\n",
       "        0.57438953, 1.15841205, 0.43083751, 0.5548295 , 0.32825197,\n",
       "        0.71672136, 1.14783137, 0.65207117, 4.4426396 , 0.50034059,\n",
       "        0.34220585, 0.56076799, 0.60050367, 0.45544811, 0.67697309,\n",
       "        0.63459249, 0.3885918 , 0.76923055, 0.45017154, 4.25801492,\n",
       "        0.93600579, 4.10708901, 0.53116838, 0.47412527, 0.85432237,\n",
       "        0.60708653, 0.32441445, 1.06026616, 0.69865614, 0.64358435,\n",
       "        0.92534954, 0.53736947, 0.46555701, 0.54570254, 0.9985828 ,\n",
       "        0.58821835, 0.5842759 , 0.85258879, 0.83688569, 0.38378544,\n",
       "        0.57094284, 0.7612687 ]),\n",
       " (4000, 21))"
      ]
     },
     "execution_count": 98,
     "metadata": {},
     "output_type": "execute_result"
    }
   ],
   "source": [
    "matrix_predict=(np.dot(User_feature,movie_feature.T))[testDataRow:testData,testDataColumn:]\n",
    "matrix_predict[matrix_test != 0],matrix_predict.shape"
   ]
  },
  {
   "cell_type": "code",
   "execution_count": 101,
   "id": "b-qc0jB42575",
   "metadata": {
    "id": "b-qc0jB42575"
   },
   "outputs": [
    {
     "name": "stdout",
     "output_type": "stream",
     "text": [
      "Accuracy for difference 0.1 is : 0.00%\n",
      "Accuracy for difference 0.2 is : 8.00%\n",
      "Accuracy for difference 0.3 is : 15.00%\n",
      "Accuracy for difference 0.4 is : 32.00%\n",
      "Accuracy for difference 0.5 is : 47.00%\n",
      "Accuracy for difference 0.6 is : 49.00%\n",
      "Accuracy for difference 0.7 is : 56.00%\n",
      "Accuracy for difference 0.8 is : 60.00%\n",
      "Accuracy for difference 0.9 is : 61.00%\n",
      "Accuracy for difference 1.0 is : 69.00%\n"
     ]
    }
   ],
   "source": [
    "for i in np.arange(0, 1.1, 0.1):\n",
    "   mask = matrix_test != 0\n",
    "   accuracy = np.mean((abs(matrix_test - matrix_predict)<=i)[mask] )\n",
    "   print(f\"Accuracy for difference {i*1:.1f} is : {accuracy * 100:.2f}%\")"
   ]
  },
  {
   "cell_type": "code",
   "execution_count": 102,
   "id": "Y8njtG6q3UaU",
   "metadata": {
    "id": "Y8njtG6q3UaU"
   },
   "outputs": [
    {
     "name": "stdout",
     "output_type": "stream",
     "text": [
      "RMSC is  1.252718635247\n"
     ]
    }
   ],
   "source": [
    "mask = matrix_test != 0\n",
    "rmse = np.sqrt(np.mean((matrix_test[mask] - matrix_predict[mask])**2))\n",
    "print(f\"RMSC is : {rmse}\")"
   ]
  },
  {
   "cell_type": "code",
   "execution_count": null,
   "id": "24aa7466-6d22-4118-a57d-3467d4be2346",
   "metadata": {},
   "outputs": [],
   "source": []
  }
 ],
 "metadata": {
  "accelerator": "GPU",
  "colab": {
   "gpuType": "T4",
   "provenance": []
  },
  "kernelspec": {
   "display_name": "Python 3 (ipykernel)",
   "language": "python",
   "name": "python3"
  },
  "language_info": {
   "codemirror_mode": {
    "name": "ipython",
    "version": 3
   },
   "file_extension": ".py",
   "mimetype": "text/x-python",
   "name": "python",
   "nbconvert_exporter": "python",
   "pygments_lexer": "ipython3",
   "version": "3.12.4"
  }
 },
 "nbformat": 4,
 "nbformat_minor": 5
}
